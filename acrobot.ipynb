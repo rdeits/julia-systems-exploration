{
 "cells": [
  {
   "cell_type": "code",
   "execution_count": 116,
   "metadata": {
    "collapsed": false
   },
   "outputs": [],
   "source": [
    "using Interpolations\n",
    "using ProfileView\n",
    "using ForwardDiff\n",
    "using PyPlot\n",
    "using FixedSizeArrays"
   ]
  },
  {
   "cell_type": "code",
   "execution_count": 117,
   "metadata": {
    "collapsed": false,
    "scrolled": true
   },
   "outputs": [
    {
     "name": "stderr",
     "output_type": "stream",
     "text": [
      "WARNING: replacing module Acrobots\n",
      "WARNING: Method definition isapprox(#FSA<:FixedSizeArrays.FixedArray, #A<:Union{Array, FixedSizeArrays.FixedArray}, Real) in module Acrobots at /home/rdeits/locomotion/explorations/julia-systems-exploration/Acrobots/src/system_types.jl:28 overwritten in module Acrobots at /home/rdeits/locomotion/explorations/julia-systems-exploration/Acrobots/src/system_types.jl:28.\n",
      "WARNING: Method definition call(Type{FixedSizeArrays.Mat{0, 0, #T<:Any}}, Number) in module Acrobots at /home/rdeits/locomotion/explorations/julia-systems-exploration/Acrobots/src/affine.jl:30 overwritten in module Acrobots at /home/rdeits/locomotion/explorations/julia-systems-exploration/Acrobots/src/affine.jl:30.\n",
      "WARNING: Method definition call(Type{FixedSizeArrays.Mat{0, #N<:Any, #T<:Any}}) in module Acrobots at /home/rdeits/locomotion/explorations/julia-systems-exploration/Acrobots/src/affine.jl:31 overwritten in module Acrobots at /home/rdeits/locomotion/explorations/julia-systems-exploration/Acrobots/src/affine.jl:31.\n",
      "WARNING: Method definition call(Type{FixedSizeArrays.Mat{0, #N<:Any, #T<:Any}}, Number) in module Acrobots at /home/rdeits/locomotion/explorations/julia-systems-exploration/Acrobots/src/affine.jl:32 overwritten in module Acrobots at /home/rdeits/locomotion/explorations/julia-systems-exploration/Acrobots/src/affine.jl:32.\n",
      "WARNING: Method definition call(Type{FixedSizeArrays.Mat{#M<:Any, 0, #T<:Any}}, Number) in module Acrobots at /home/rdeits/locomotion/explorations/julia-systems-exploration/Acrobots/src/affine.jl:33 overwritten in module Acrobots at /home/rdeits/locomotion/explorations/julia-systems-exploration/Acrobots/src/affine.jl:33.\n",
      "WARNING: Method definition *(Real, FixedSizeArrays.Mat{0, 0, #T<:Any}) in module Acrobots at /home/rdeits/locomotion/explorations/julia-systems-exploration/Acrobots/src/affine.jl:45 overwritten in module Acrobots at /home/rdeits/locomotion/explorations/julia-systems-exploration/Acrobots/src/affine.jl:45.\n",
      "WARNING: Method definition *(Real, FixedSizeArrays.Mat{0, #N<:Any, #T<:Any}) in module Acrobots at /home/rdeits/locomotion/explorations/julia-systems-exploration/Acrobots/src/affine.jl:46 overwritten in module Acrobots at /home/rdeits/locomotion/explorations/julia-systems-exploration/Acrobots/src/affine.jl:46.\n",
      "WARNING: Method definition *(Real, FixedSizeArrays.Mat{#M<:Any, 0, #T<:Any}) in module Acrobots at /home/rdeits/locomotion/explorations/julia-systems-exploration/Acrobots/src/affine.jl:47 overwritten in module Acrobots at /home/rdeits/locomotion/explorations/julia-systems-exploration/Acrobots/src/affine.jl:47.\n",
      "WARNING: Method definition +(FixedSizeArrays.Mat{0, 0, #T<:Any}, FixedSizeArrays.Mat{0, 0, #T<:Any}) in module Acrobots at /home/rdeits/locomotion/explorations/julia-systems-exploration/Acrobots/src/affine.jl:56 overwritten in module Acrobots at /home/rdeits/locomotion/explorations/julia-systems-exploration/Acrobots/src/affine.jl:56.\n",
      "WARNING: Method definition +(FixedSizeArrays.Mat{0, #N<:Any, #T<:Any}, FixedSizeArrays.Mat{0, #N<:Any, #T<:Any}) in module Acrobots at /home/rdeits/locomotion/explorations/julia-systems-exploration/Acrobots/src/affine.jl:57 overwritten in module Acrobots at /home/rdeits/locomotion/explorations/julia-systems-exploration/Acrobots/src/affine.jl:57.\n",
      "WARNING: Method definition +(FixedSizeArrays.Mat{#M<:Any, 0, #T<:Any}, FixedSizeArrays.Mat{#M<:Any, 0, #T<:Any}) in module Acrobots at /home/rdeits/locomotion/explorations/julia-systems-exploration/Acrobots/src/affine.jl:58 overwritten in module Acrobots at /home/rdeits/locomotion/explorations/julia-systems-exploration/Acrobots/src/affine.jl:58.\n"
     ]
    },
    {
     "data": {
      "text/plain": [
       "Acrobots"
      ]
     },
     "execution_count": 117,
     "metadata": {},
     "output_type": "execute_result"
    }
   ],
   "source": [
    "include(\"Acrobots/src/Acrobots.jl\")"
   ]
  },
  {
   "cell_type": "code",
   "execution_count": 118,
   "metadata": {
    "collapsed": false
   },
   "outputs": [
    {
     "data": {
      "text/plain": [
       "unwrap (generic function with 1 method)"
      ]
     },
     "execution_count": 118,
     "metadata": {},
     "output_type": "execute_result"
    }
   ],
   "source": [
    "function unwrap{State}(state::State)\n",
    "    if state.theta1 < 0\n",
    "        state = State(state.theta1 + 2*pi, state.theta2, state.theta1dot, state.theta2dot)\n",
    "    end\n",
    "    if state.theta1 > 2*pi\n",
    "        state = State(state.theta1 - 2*pi, state.theta2, state.theta1dot, state.theta2dot)\n",
    "    end\n",
    "    state\n",
    "end\n",
    "    "
   ]
  },
  {
   "cell_type": "code",
   "execution_count": 119,
   "metadata": {
    "collapsed": false
   },
   "outputs": [
    {
     "name": "stdout",
     "output_type": "stream",
     "text": [
      "(elapsed / length(ts)) * 1.0e6 = 711.6898858228354"
     ]
    },
    {
     "data": {
      "text/plain": [
       "711.6898858228354"
      ]
     },
     "execution_count": 119,
     "metadata": {},
     "output_type": "execute_result"
    },
    {
     "name": "stdout",
     "output_type": "stream",
     "text": [
      "\n"
     ]
    }
   ],
   "source": [
    "xdes = Acrobots.AcrobotState{Float64}(pi, 0, 0, 0)\n",
    "x0 = Acrobots.AcrobotState{Float64}([0.2*(rand(2)-0.5); zeros(2)]) + Acrobots.AcrobotState(0, 0, 0, 0)\n",
    "state = x0\n",
    "robot = Acrobots.acrobot()\n",
    "input = Acrobots.AcrobotInput{Float64}(0)\n",
    "dt = 0.001\n",
    "vis = Acrobots.DrakeVisualizer(robot)\n",
    "ts = 0:dt:5\n",
    "Qf = diagm([100,100,1,1])\n",
    "Rf = eye(1)\n",
    "\n",
    "function cost(state::Acrobots.AcrobotState)\n",
    "#     if state.theta1 > 0\n",
    "#         x = convert(Vector, state - xdes)\n",
    "#     else\n",
    "#         x = convert(Vector, state - Acrobots.AcrobotState{Float64}(-pi, 0, 0, 0))\n",
    "#     end\n",
    "#     return 0.5*(x' * Qf * x)[1]\n",
    "    y = cos(state.theta1) + 2*cos(state.theta2 + state.theta1)\n",
    "    return 10*y + state.theta1dot^2 + state.theta2dot^2 \n",
    "end\n",
    "Q_generator = ForwardDiff.hessian(x -> cost(Acrobots.AcrobotState(x)), ForwardDiff.AllResults)\n",
    "\n",
    "function cost(input::Acrobots.AcrobotInput)\n",
    "    return input.tau^2\n",
    "end\n",
    "R_generator = ForwardDiff.hessian(x -> cost(Acrobots.AcrobotInput(x)), ForwardDiff.AllResults)\n",
    "\n",
    "sys_tf = Acrobots.linearize(robot, 0, xdes, input)\n",
    "P_tf = Mat(Acrobots.care(convert(Matrix, sys_tf.A), convert(Matrix, sys_tf.B), Qf, Rf))\n",
    "p_tf = -P_tf * xdes\n",
    "\n",
    "Qs = Mat{4, 4, Float64}[]\n",
    "Rs = Mat{1, 1, Float64}[]\n",
    "qs = Vec{4, Float64}[]\n",
    "rs = Vec{1, Float64}[]\n",
    "Ps = Mat{4, 4, Float64}[]\n",
    "ps = Vec{4, Float64}[]\n",
    "\n",
    "controller_state = Acrobots.LQRState{Float64}(())\n",
    "linear_sys = Acrobots.linearize(robot, 0, x0, input)\n",
    "controller = Acrobots.lqr(linear_sys, Qf, Rf, x0)\n",
    "linearizations = typeof(linear_sys)[]\n",
    "\n",
    "Profile.clear()\n",
    "elapsed = @elapsed for (i, t) in enumerate(ts)\n",
    "    output = Acrobots.output(robot, t, state, input)\n",
    "    input = Acrobots.output(controller, t, controller_state, output)\n",
    "    statedot = Acrobots.dynamics(robot, t, state, input)\n",
    "    state += statedot * dt\n",
    "#     state = unwrap(state)\n",
    "    push!(linearizations, Acrobots.linearize(robot, t, state, input))\n",
    "    \n",
    "    Q, Q_results = Q_generator(convert(Vector, state))\n",
    "    push!(Qs, Q)\n",
    "    push!(qs, ForwardDiff.gradient(Q_results))\n",
    "    R, R_results = R_generator(convert(Vector, input))\n",
    "    push!(Rs, R)\n",
    "    push!(rs, ForwardDiff.gradient(R_results))\n",
    "#     push!(Qs, Mat{4, 4, Float64}(diagm([10, 10, 1, 1])))\n",
    "#     push!(qs, -Qs[end] * Vec(pi, 0, 0, 0))\n",
    "#     push!(Rs, Mat{1, 1, Float64}(1))\n",
    "#     push!(rs, Vec(0.0))\n",
    "    \n",
    "#     if mod(i, 10) == 0\n",
    "        Acrobots.draw(vis, state)\n",
    "#     end\n",
    "end\n",
    "@show elapsed / length(ts) * 1e6\n",
    "# ProfileView.view()"
   ]
  },
  {
   "cell_type": "code",
   "execution_count": 120,
   "metadata": {
    "collapsed": false
   },
   "outputs": [
    {
     "data": {
      "image/png": "[encoded data removed]",
      "text/plain": [
       "PyPlot.Figure(PyObject <matplotlib.figure.Figure object at 0x7fa7fc852b90>)"
      ]
     },
     "metadata": {},
     "output_type": "display_data"
    },
    {
     "data": {
      "text/plain": [
       "1-element Array{Any,1}:\n",
       " PyObject <matplotlib.lines.Line2D object at 0x7fa7fcaa6210>"
      ]
     },
     "execution_count": 120,
     "metadata": {},
     "output_type": "execute_result"
    }
   ],
   "source": [
    "plot(ts, [lin.x0[1] for lin in linearizations])"
   ]
  },
  {
   "cell_type": "code",
   "execution_count": 121,
   "metadata": {
    "collapsed": false
   },
   "outputs": [
    {
     "data": {
      "image/png": "[encoded data removed]",
      "text/plain": [
       "PyPlot.Figure(PyObject <matplotlib.figure.Figure object at 0x7fa7fc7948d0>)"
      ]
     },
     "metadata": {},
     "output_type": "display_data"
    },
    {
     "data": {
      "text/plain": [
       "1-element Array{Any,1}:\n",
       " PyObject <matplotlib.lines.Line2D object at 0x7fa7fc6db590>"
      ]
     },
     "execution_count": 121,
     "metadata": {},
     "output_type": "execute_result"
    }
   ],
   "source": [
    "plot(ts, [lin.u0[1] for lin in linearizations])"
   ]
  },
  {
   "cell_type": "code",
   "execution_count": 122,
   "metadata": {
    "collapsed": false
   },
   "outputs": [],
   "source": [
    "alpha = 0.1\n",
    "\n",
    "for i = 1:10\n",
    "\n",
    "    Ps = Array{Mat{4, 4, Float64}}(length(ts))\n",
    "    ps = Array{Vec{4, Float64}}(length(ts))\n",
    "    Ks = Array{Mat{1, 4, Float64}}(length(ts))\n",
    "    ls = Array{Vec{1, Float64}}(length(ts))\n",
    "    As = [dt * sys.A for sys in linearizations]\n",
    "    Bs = [dt * sys.B for sys in linearizations]\n",
    "\n",
    "    Ps[end] = P_tf\n",
    "    ps[end] = p_tf\n",
    "\n",
    "    for j = (length(ts)-1):-1:1\n",
    "        g = rs[j] + Bs[j]' * ps[j+1]\n",
    "        G = Bs[j]' * Ps[j+1] * As[j]\n",
    "        H = Rs[j] + Bs[j]' * Ps[j+1] * Bs[j]\n",
    "        Hi = inv(H)\n",
    "        Ks[j] = -Hi * G\n",
    "        ls[j] = -Hi * g\n",
    "\n",
    "#         M = inv(Mat{4,4,Float64}(eye(4)) + Bs[j] * inv(Rs[j]) * Bs[j]' * Ps[j+1])\n",
    "#         ps[j] = (As[j]' * (Mat{4,4,Float64}(eye(4)) - Ps[j+1] * M * Bs[j] * inv(Rs[j]) * Bs[j]') * ps[j+1] \n",
    "#             + As[j]' * Ps[j+1] * M * Bs[j] * linearizations[j].u0 + qs[j])\n",
    "\n",
    "        ps[j] = qs[j] + As[j]' * ps[j+1] + Ks[j]' * H * ls[j] + Ks[j]' * g + G' * ls[j] # TODO: can neunertm help?\n",
    "        Ps[j] = Qs[j] + As[j]' * Ps[j+1] * As[j] + Ks[j]' * H * Ks[j] + Ks[j]' * G + G' * Ks[j]\n",
    "    end\n",
    "    Ks[end] = Ks[end-1]\n",
    "    ls[end] = ls[end-1]\n",
    "\n",
    "    controllers = [Acrobots.AffineSystem(\n",
    "        Mat{0,0,Float64}(),\n",
    "        Mat{0,4,Float64}(),\n",
    "        Mat{1,0,Float64}(),\n",
    "        Mat{1,4,Float64}(Ks[j]),\n",
    "        Acrobots.LQRState{Float64}(),\n",
    "        Acrobots.AcrobotOutput{Float64}(linearizations[j].x0),\n",
    "        Acrobots.LQRState{Float64}(),\n",
    "        Acrobots.AcrobotInput{Float64}(linearizations[j].u0) + Acrobots.AcrobotInput{Float64}(alpha * ls[j])) \n",
    "        for j in 1:length(ts)]\n",
    "\n",
    "\n",
    "    state = x0\n",
    "    input = Acrobots.AcrobotInput{Float64}(0)\n",
    "    empty!(linearizations)\n",
    "    empty!(Qs)\n",
    "    empty!(Rs)\n",
    "    empty!(qs)\n",
    "    empty!(rs)\n",
    "\n",
    "    elapsed = @elapsed for (i, t) in enumerate(ts)\n",
    "        output = Acrobots.output(robot, t, state, input)\n",
    "        input = Acrobots.output(controllers[i], t, controller_state, output)\n",
    "        statedot = Acrobots.dynamics(robot, t, state, input)\n",
    "        state += statedot * dt\n",
    "        state = unwrap(state)\n",
    "        push!(linearizations, Acrobots.linearize(robot, t, state, input))\n",
    "\n",
    "        Q, Q_results = Q_generator(convert(Vector, state))\n",
    "        push!(Qs, Q)\n",
    "        push!(qs, ForwardDiff.gradient(Q_results))\n",
    "        R, R_results = R_generator(convert(Vector, input))\n",
    "        push!(Rs, R)\n",
    "        push!(rs, ForwardDiff.gradient(R_results))\n",
    "\n",
    "        if mod(i, 10) == 0\n",
    "            Acrobots.draw(vis, state)\n",
    "        end\n",
    "    end\n",
    "    \n",
    "end"
   ]
  },
  {
   "cell_type": "code",
   "execution_count": 79,
   "metadata": {
    "collapsed": false
   },
   "outputs": [
    {
     "data": {
      "text/plain": [
       "FixedSizeArrays.Mat{4,4,Float64}(\n",
       "    -29.926638646305598 -19.94969491701665 0.0 0.0\n",
       "    -19.94969491701665 -19.94969491701665 0.0 0.0\n",
       "    0.0 0.0 2.0 0.0\n",
       "    0.0 0.0 0.0 2.0\n",
       ")\n"
      ]
     },
     "execution_count": 79,
     "metadata": {},
     "output_type": "execute_result"
    }
   ],
   "source": [
    "Qs[1]"
   ]
  },
  {
   "cell_type": "code",
   "execution_count": 77,
   "metadata": {
    "collapsed": false
   },
   "outputs": [
    {
     "data": {
      "text/plain": [
       "30.014575367522283"
      ]
     },
     "execution_count": 77,
     "metadata": {},
     "output_type": "execute_result"
    }
   ],
   "source": [
    "cost(linearizations[end].x0)"
   ]
  },
  {
   "cell_type": "code",
   "execution_count": null,
   "metadata": {
    "collapsed": true
   },
   "outputs": [],
   "source": []
  },
  {
   "cell_type": "code",
   "execution_count": null,
   "metadata": {
    "collapsed": true
   },
   "outputs": [],
   "source": []
  },
  {
   "cell_type": "code",
   "execution_count": null,
   "metadata": {
    "collapsed": true
   },
   "outputs": [],
   "source": []
  },
  {
   "cell_type": "code",
   "execution_count": 5,
   "metadata": {
    "collapsed": false
   },
   "outputs": [
    {
     "ename": "LoadError",
     "evalue": "LoadError: UndefVarError: linearizations not defined\nwhile loading In[5], in expression starting on line 2",
     "output_type": "error",
     "traceback": [
      "LoadError: UndefVarError: linearizations not defined\nwhile loading In[5], in expression starting on line 2",
      "",
      " [inlined code] from In[5]:3",
      " in anonymous at no file:0"
     ]
    }
   ],
   "source": [
    "alpha = 0.1\n",
    "for i = 1:10\n",
    "    lin = interpolate((ts,), linearizations, Gridded(Linear()));\n",
    "\n",
    "    Qs_interp = interpolate((ts,), Qs, Gridded(Linear()))\n",
    "    Rs_interp = interpolate((ts,), Rs, Gridded(Linear()))\n",
    "    controllers = Acrobots.tvlqr(lin, Acrobots.AcrobotState{Float64}(pi,0,0,0), Qs_interp, Rs_interp, diagm([10.,10,1,1]), eye(1));\n",
    "    \n",
    "    for j = 1:size(controllers.coefs, 1)\n",
    "        controllers.coefs[j] = typeof(controllers.coefs[j])(\n",
    "            controllers.coefs[j].A,\n",
    "            controllers.coefs[j].B,\n",
    "            controllers.coefs[j].C,\n",
    "            controllers.coefs[j].D,\n",
    "            controllers.coefs[j].x0,\n",
    "            controllers.coefs[j].u0,\n",
    "            controllers.coefs[j].xd0,\n",
    "            controllers.coefs[j].y0 * alpha + lin.coefs[j].u0 * (1 - alpha),\n",
    "        )\n",
    "    end\n",
    "        \n",
    "    state = x0\n",
    "    input = Acrobots.AcrobotInput{Float64}(0)\n",
    "    empty!(linearizations)\n",
    "    empty!(Qs)\n",
    "    empty!(Rs)\n",
    "\n",
    "    elapsed = @elapsed for (i, t) in enumerate(ts)\n",
    "        output = Acrobots.output(robot, t, state, input)\n",
    "        input = Acrobots.output(controllers[t], t, controller_state, output)\n",
    "        input = min(max(input, -5), 5)\n",
    "        statedot = Acrobots.dynamics(robot, t, state, input)\n",
    "        state += statedot * dt\n",
    "        state = unwrap(state)\n",
    "        push!(linearizations, Acrobots.linearize(robot, t, state, input))\n",
    "\n",
    "        Q = Q_generator(convert(Vector, state))\n",
    "        R = R_generator(convert(Vector, input))\n",
    "        push!(Qs, Q)\n",
    "        push!(Rs, R)\n",
    "\n",
    "#         if mod(i, 10) == 0\n",
    "            Acrobots.draw(vis, state)\n",
    "#         end\n",
    "    end\n",
    "end"
   ]
  },
  {
   "cell_type": "code",
   "execution_count": 6,
   "metadata": {
    "collapsed": false
   },
   "outputs": [],
   "source": [
    "robot = Acrobots.acrobot()\n",
    "state = Acrobots.AcrobotState{Float64}([1.; 2.;3.; 4.])\n",
    "input = Acrobots.AcrobotInput{Float64}(5.)\n",
    "statedot = Acrobots.dynamics(robot, 0, state, input)\n",
    "expected = Acrobots.AcrobotState{Float64}(3.0000, 4.0000, 21.3827, -18.4276)\n",
    "@assert isapprox(statedot, expected, 1e-4)\n",
    "\n",
    "linear_sys = Acrobots.linearize(robot, 0, state, input)\n",
    "@assert isapprox(statedot, Acrobots.dynamics(linear_sys, 0, state, input), 1e-9)\n",
    "\n",
    "vis = Acrobots.DrakeVisualizer(robot)\n",
    "state = Acrobots.AcrobotState{Float64}([pi/4;pi/4;0;0])\n",
    "Acrobots.draw(vis, state)"
   ]
  },
  {
   "cell_type": "code",
   "execution_count": null,
   "metadata": {
    "collapsed": false
   },
   "outputs": [],
   "source": []
  },
  {
   "cell_type": "code",
   "execution_count": null,
   "metadata": {
    "collapsed": true
   },
   "outputs": [],
   "source": []
  }
 ],
 "metadata": {
  "kernelspec": {
   "display_name": "Julia 0.4.5",
   "language": "julia",
   "name": "julia-0.4"
  },
  "language_info": {
   "file_extension": ".jl",
   "mimetype": "application/julia",
   "name": "julia",
   "version": "0.4.5"
  }
 },
 "nbformat": 4,
 "nbformat_minor": 0
}
