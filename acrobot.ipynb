{
 "cells": [
  {
   "cell_type": "code",
   "execution_count": 117,
   "metadata": {
    "collapsed": false
   },
   "outputs": [
    {
     "name": "stderr",
     "output_type": "stream",
     "text": [
      "WARNING: replacing module Acrobots\n"
     ]
    }
   ],
   "source": [
    "# workspace()\n",
    "module Acrobots\n",
    "\n",
    "using FixedSizeArrays\n",
    "using Quaternions\n",
    "using PyLCM\n",
    "using PyCall\n",
    "import Base: convert\n",
    "using ForwardDiff\n",
    "using Flatten\n",
    "\n",
    "@pyimport drake as lcmdrake\n",
    "\n",
    "macro make_type(typename, parent, fields...)\n",
    "    ex = :(immutable $(esc(typename)){T} <: $(parent){$(length(fields)), T} end)\n",
    "    push!(ex.args, Expr(:block))\n",
    "    for field in fields\n",
    "        push!(ex.args[3].args, :($(field)::T))\n",
    "    end\n",
    "    constructor_expr = quote function $(esc(typename))(a::NTuple{$(length(fields)), T}) \n",
    "            new{T}()\n",
    "            end \n",
    "        end\n",
    "    for i = 1:length(fields)\n",
    "        push!(constructor_expr.args[2].args[2].args[2].args, :(a[$(i)]))\n",
    "    end\n",
    "    push!(ex.args[3].args, constructor_expr)\n",
    "    return ex\n",
    "end\n",
    "\n",
    "type State{PositionType, VelocityType}\n",
    "    position::PositionType\n",
    "    velocity::VelocityType\n",
    "end\n",
    "Base.length{PositionType, VelocityType}(T::State{PositionType, VelocityType}) = length(PositionType) + length(VelocityType)\n",
    "abstract Position{N, T} <: FixedVectorNoTuple{N, T}\n",
    "abstract Velocity{N, T} <: FixedVectorNoTuple{N, T}\n",
    "abstract Input{N, T} <: FixedVectorNoTuple{N, T}\n",
    "abstract Output{N, T} <: FixedVectorNoTuple{N, T}\n",
    "\n",
    "convert{PosType <: Position, VelType <: Velocity}(::Type{PosType}, state::State{PosType, VelType}) = state.position\n",
    "convert{PosType <: Position, VelType <: Velocity}(::Type{VelType}, state::State{PosType, VelType}) = state.velocity\n",
    "\n",
    "abstract Manipulator{StateType, InputType, OutputType}\n",
    "    \n",
    "function dynamics{State, Input}(robot::Manipulator, time, state::State, input::Input)\n",
    "    H, C, B = manipulator_dynamics(robot, state)\n",
    "    H_inv = inv(H)\n",
    "    tau = B * destructure([input]) - C\n",
    "    vdot = H_inv * tau\n",
    "    State(state.velocity, vec(vdot))\n",
    "end\n",
    "\n",
    "type DrakeVisualizer\n",
    "    robot::Manipulator\n",
    "    lcm::PyLCM.PyLCMWrapper\n",
    "    \n",
    "    function DrakeVisualizer(robot::Manipulator, lcm::PyLCM.PyLCMWrapper)\n",
    "        vis = new(robot, lcm)\n",
    "        load_robot(vis)\n",
    "        vis\n",
    "    end\n",
    "end\n",
    "\n",
    "DrakeVisualizer(robot::Manipulator) = DrakeVisualizer(robot, LCM())\n",
    "\n",
    "function load_robot(vis::DrakeVisualizer)\n",
    "    load_msg = viewer_load_msg(vis.robot)\n",
    "    publish(vis.lcm, \"DRAKE_VIEWER_LOAD_ROBOT\", load_msg)\n",
    "end\n",
    "\n",
    "function draw{T}(vis::DrakeVisualizer, state::State{T})\n",
    "    publish(vis.lcm, \"DRAKE_VIEWER_DRAW\", viewer_draw_msg(vis.robot, state))\n",
    "end\n",
    "\n",
    "@make_type AcrobotPosition Position theta1 theta2\n",
    "@make_type AcrobotVelocity Velocity theta1 theta2\n",
    "@make_type AcrobotInput Input tau\n",
    "@make_type AcrobotOutput Output theta1 theta2 theta1dot theta2dot\n",
    "typealias AcrobotState{T} State{AcrobotPosition{T}, AcrobotVelocity{T}}\n",
    "\n",
    "type AcrobotLink{T}\n",
    "    length::T\n",
    "    mass::T\n",
    "    damping::T\n",
    "    length_to_CoM::T\n",
    "    inertia::T\n",
    "end\n",
    "\n",
    "type Acrobot{T} <: Manipulator{AcrobotState, AcrobotInput, AcrobotOutput}\n",
    "    links::NTuple{2, AcrobotLink{T}}\n",
    "    gravity::T\n",
    "end\n",
    "\n",
    "function manipulator_dynamics{ParamType, T}(robot::Acrobot{ParamType}, state::AcrobotState{T})\n",
    "    inertias_about_joint = [robot.links[i].inertia + robot.links[i].mass * robot.links[i].length_to_CoM^2 for i in 1:2]\n",
    "    m2l1lc2 = robot.links[2].mass * robot.links[1].length * robot.links[2].length_to_CoM\n",
    "    \n",
    "    c = cos(state.position)\n",
    "    s = sin(state.position)\n",
    "    s12 = sin(state.position.theta1 + state.position.theta2)\n",
    "    \n",
    "    h12 = inertias_about_joint[2] + m2l1lc2 * c[2]\n",
    "    H = [inertias_about_joint[1] + inertias_about_joint[2] + robot.links[2].mass * robot.links[1].length^2 + 2 * m2l1lc2 * c[2]   h12;\n",
    "        h12                                                                                                                       inertias_about_joint[2]]\n",
    "    C = [-2 * m2l1lc2 * s[2] * state.velocity.theta2     -m2l1lc2 * s[2] * state.velocity.theta2;\n",
    "         m2l1lc2 * s[2] * state.velocity.theta1          0]\n",
    "    G = robot.gravity * [robot.links[1].mass * robot.links[1].length_to_CoM * s[1] + robot.links[2].mass * (robot.links[1].length * s[1] + robot.links[2].length_to_CoM * s12);\n",
    "                         robot.links[2].mass * robot.links[2].length_to_CoM * s12]\n",
    "\n",
    "    Cv = Float64[dot(AcrobotVelocity{T}(vec(C[i,:])), state.velocity) + G[i] + robot.links[i].damping * state.velocity[i] for i = 1:2]\n",
    "        \n",
    "    B = Float64[0; 1]\n",
    "    \n",
    "    H, Cv, B\n",
    "end\n",
    "\n",
    "acrobot() = Acrobot((AcrobotLink(1.0, 1.0, 0.1, 0.5, 0.083), AcrobotLink(2.0, 1.0, 0.1, 1.0, 0.33)), 9.81)\n",
    "\n",
    "function output{T}(robot::Acrobot, time, state::AcrobotState{T}, input::AcrobotInput{T})\n",
    "    AcrobotOutput{T}(state.position[1], state.position[2], state.velocity[1], state.velocity[2])\n",
    "end\n",
    "\n",
    "\n",
    "function viewer_data(link::Acrobots.AcrobotLink, name)\n",
    "    msg = lcmdrake.lcmt_viewer_link_data()\n",
    "    msg[:name] = name\n",
    "    msg[:robot_num] = 1\n",
    "    msg[:num_geom] = 1\n",
    "    \n",
    "    geom = lcmdrake.lcmt_viewer_geometry_data()\n",
    "    geom[:type] = geom[:BOX]\n",
    "    geom[:position] = [0; 0; -link.length / 2]\n",
    "    quat = qrotation([0.; 1; 0], pi/2)\n",
    "    geom[:quaternion] = [quat.s; quat.v1; quat.v2; quat.v3]\n",
    "    geom[:color] = [0.2; 0.2; 0.8; 0.6]\n",
    "    geom[:string_data] = \"\"\n",
    "    geom[:float_data] = [link.length; 0.1; 0.1]\n",
    "    geom[:num_float_data] = 3\n",
    "    push!(msg[\"geom\"], geom)\n",
    "    \n",
    "    msg\n",
    "end\n",
    "\n",
    "function viewer_load_msg(robot::Acrobot)\n",
    "    msg = lcmdrake.lcmt_viewer_load_robot()\n",
    "    msg[:num_links] = 2\n",
    "    for i in 1:2\n",
    "        push!(msg[\"link\"], viewer_data(robot.links[i], \"link$(i)\"))\n",
    "    end\n",
    "    msg\n",
    "end\n",
    "\n",
    "\n",
    "rotmat(theta) = [cos(theta) -sin(theta); sin(theta) cos(theta)]\n",
    "\n",
    "function viewer_draw_msg{T}(robot::Acrobot, state::AcrobotState{T})\n",
    "    msg = lcmdrake.lcmt_viewer_draw()\n",
    "    msg[:num_links] = 2\n",
    "    msg[:link_name] = [\"link1\"; \"link2\"]\n",
    "    msg[:robot_num] = [1; 1]\n",
    "    \n",
    "    p0 = [0; 0]\n",
    "    p1 = rotmat(state.position.theta1) * [0; -robot.links[1].length]\n",
    "    \n",
    "    msg[:position] = Any[[0; 0; 0], [p1[1]; 0; p1[2]]]\n",
    "    quats = [qrotation([0; -1; 0], state.position.theta1);\n",
    "            qrotation([0.; -1; 0], state.position.theta1 + state.position.theta2)]\n",
    "    msg[:quaternion] = Any[[q.s; q.v1; q.v2; q.v3] for q in quats]\n",
    "    msg\n",
    "end\n",
    "\n",
    "type LinearSystem{T, StateType, InputType, OutputType, NStates, NInputs, NOutputs}\n",
    "    A::Mat{NStates, NStates, T}\n",
    "    B::Mat{NStates, NInputs, T}\n",
    "    C::Mat{NOutputs, NStates, T}\n",
    "    D::Mat{NOutputs, NInputs, T}\n",
    "end\n",
    "\n",
    "function dynamics{T, StateType, InputType}(sys::LinearSystem{T, StateType, InputType}, t, state::StateType, input::InputType)\n",
    "    StateType{T}(sys.A * [state.position; state.velocity] + sys.B * input)\n",
    "end\n",
    "\n",
    "function linearize{StateType, InputType, OutputType}(robot::Manipulator{StateType, InputType, OutputType}, time, state::StateType, input::InputType)\n",
    "    segment_lengths = [1; length(state.position) + length(state.velocity); length(input)]\n",
    "    breaks = cumsum(segment_lengths)\n",
    "    @show StateType\n",
    "    @show InputType\n",
    "    function wrapped_dynamics(x)\n",
    "        to_vector(dynamics(robot, x[1], \n",
    "            x[(breaks[1]+1):breaks[2]], \n",
    "            x[(breaks[2]+1):breaks[3]]))\n",
    "    end\n",
    "    function wrapped_output(x)\n",
    "        to_vector(output(robot, x[1], \n",
    "            x[(breaks[1]+1):breaks[2]], \n",
    "            x[(breaks[2]+1):breaks[3]]))\n",
    "    end\n",
    "    \n",
    "    x = vcat(map(x -> convert(Vector{Float64}, x), ([time], state.position, state.velocity, input))...)\n",
    "    AB = ForwardDiff.jacobian(wrapped_dynamics, x)\n",
    "    CD = FowardDiff.jacobian(wrapped_output, x)\n",
    "    LinearSystem{Float64, StateType, InputType, OutputType, length(StateType), length(InputType), length(OutputType)}(\n",
    "        AB[:,1:length(StateType)], AB[:,(length(StateType+1):end)], \n",
    "        CD[:,1:length(StateType)], CD[:,(length(StateType+1):end)])\n",
    "end \n",
    "    \n",
    "end\n",
    "\n",
    "import Acrobots"
   ]
  },
  {
   "cell_type": "code",
   "execution_count": 118,
   "metadata": {
    "collapsed": false
   },
   "outputs": [
    {
     "data": {
      "text/plain": [
       "Acrobots.AcrobotInput{Float64}(0.0)"
      ]
     },
     "execution_count": 118,
     "metadata": {},
     "output_type": "execute_result"
    }
   ],
   "source": [
    "robot = Acrobots.acrobot()\n",
    "state = Acrobots.AcrobotState{Float64}([0.;0], [0;0])\n",
    "input = Acrobots.AcrobotInput{Float64}(0.)"
   ]
  },
  {
   "cell_type": "code",
   "execution_count": 119,
   "metadata": {
    "collapsed": false
   },
   "outputs": [
    {
     "ename": "LoadError",
     "evalue": "LoadError: MethodError: `linearize` has no method matching linearize(::Acrobots.Acrobot{Float64}, ::Int64, ::Acrobots.State{Acrobots.AcrobotPosition{Float64},Acrobots.AcrobotVelocity{Float64}}, ::Acrobots.AcrobotInput{Float64})\nClosest candidates are:\n  linearize{StateType,InputType,OutputType}(::Acrobots.Manipulator{StateType,InputType,OutputType}, ::Any, !Matched::StateType, ::InputType)\nwhile loading In[119], in expression starting on line 1",
     "output_type": "error",
     "traceback": [
      "LoadError: MethodError: `linearize` has no method matching linearize(::Acrobots.Acrobot{Float64}, ::Int64, ::Acrobots.State{Acrobots.AcrobotPosition{Float64},Acrobots.AcrobotVelocity{Float64}}, ::Acrobots.AcrobotInput{Float64})\nClosest candidates are:\n  linearize{StateType,InputType,OutputType}(::Acrobots.Manipulator{StateType,InputType,OutputType}, ::Any, !Matched::StateType, ::InputType)\nwhile loading In[119], in expression starting on line 1",
      ""
     ]
    }
   ],
   "source": [
    "Acrobots.linearize(robot, 0, state, input)"
   ]
  },
  {
   "cell_type": "code",
   "execution_count": 106,
   "metadata": {
    "collapsed": false
   },
   "outputs": [
    {
     "data": {
      "text/plain": [
       "Acrobots.Manipulator{Acrobots.State{Acrobots.AcrobotPosition{T},Acrobots.AcrobotVelocity{T}},Acrobots.AcrobotInput{T},Acrobots.AcrobotOutput{T}}"
      ]
     },
     "execution_count": 106,
     "metadata": {},
     "output_type": "execute_result"
    }
   ],
   "source": [
    "T = super(typeof(robot))"
   ]
  },
  {
   "cell_type": "code",
   "execution_count": 112,
   "metadata": {
    "collapsed": false
   },
   "outputs": [
    {
     "data": {
      "text/plain": [
       "Acrobots.AcrobotInput{T}"
      ]
     },
     "execution_count": 112,
     "metadata": {},
     "output_type": "execute_result"
    }
   ],
   "source": [
    "T.parameters[2]"
   ]
  },
  {
   "cell_type": "code",
   "execution_count": 113,
   "metadata": {
    "collapsed": false
   },
   "outputs": [
    {
     "data": {
      "text/plain": [
       "Acrobots.AcrobotInput{T}"
      ]
     },
     "execution_count": 113,
     "metadata": {},
     "output_type": "execute_result"
    }
   ],
   "source": [
    "Acrobots.AcrobotInput"
   ]
  },
  {
   "cell_type": "code",
   "execution_count": null,
   "metadata": {
    "collapsed": true
   },
   "outputs": [],
   "source": [
    "vis = Acrobots.DrakeVisualizer(robot)\n",
    "state = Acrobots.AcrobotState{Float64}([pi/4;pi/4], [0;0])\n",
    "Acrobots.draw(vis, state)"
   ]
  },
  {
   "cell_type": "code",
   "execution_count": 41,
   "metadata": {
    "collapsed": false
   },
   "outputs": [
    {
     "data": {
      "text/plain": [
       "Acrobots.State{Acrobots.AcrobotPosition{Float64},Acrobots.AcrobotVelocity{Float64}}(Acrobots.AcrobotPosition{Float64}(3.0,4.0),Acrobots.AcrobotVelocity{Float64}(21.382653016334,-18.427570843977477))"
      ]
     },
     "execution_count": 41,
     "metadata": {},
     "output_type": "execute_result"
    }
   ],
   "source": [
    "Acrobots.dynamics(robot, 0, Acrobots.AcrobotState{Float64}([1.; 2.], [3.; 4.]), Acrobots.AcrobotInput{Float64}(5.))"
   ]
  },
  {
   "cell_type": "code",
   "execution_count": 42,
   "metadata": {
    "collapsed": false
   },
   "outputs": [
    {
     "data": {
      "text/plain": [
       "Acrobots.AcrobotOutput{Float64}(1.0,2.0,3.0,4.0)"
      ]
     },
     "execution_count": 42,
     "metadata": {},
     "output_type": "execute_result"
    }
   ],
   "source": [
    "Acrobots.output(robot, 0, Acrobots.AcrobotState{Float64}([1.; 2.], [3.; 4.]), Acrobots.AcrobotInput{Float64}(5.))"
   ]
  },
  {
   "cell_type": "code",
   "execution_count": null,
   "metadata": {
    "collapsed": false
   },
   "outputs": [],
   "source": [
    "using ProfileView\n",
    "\n",
    "state = Acrobots.AcrobotState{Float64}(randn(2), zeros(2))\n",
    "robot = Acrobots.acrobot()\n",
    "input = Acrobots.AcrobotInput{Float64}(0)\n",
    "dt = 0.001\n",
    "vis = Acrobots.DrakeVisualizer(robot)\n",
    "ts = 0:dt:5\n",
    "for (i, t) in enumerate(ts[1:100])\n",
    "    statedot = Acrobots.dynamics(robot, t, state, input)\n",
    "    state.position += statedot.position * dt\n",
    "    state.velocity += statedot.velocity * dt\n",
    "    Acrobots.draw(vis, state)\n",
    "end\n",
    "Profile.clear()\n",
    "elapsed = @elapsed @profile for (i, t) in enumerate(ts)\n",
    "    statedot = Acrobots.dynamics(robot, t, state, input)\n",
    "    state.position += statedot.position * dt\n",
    "    state.velocity += statedot.velocity * dt\n",
    "    Acrobots.draw(vis, state)\n",
    "end\n",
    "@show elapsed / length(ts)\n",
    "# ProfileView.view()"
   ]
  },
  {
   "cell_type": "code",
   "execution_count": null,
   "metadata": {
    "collapsed": true
   },
   "outputs": [],
   "source": []
  }
 ],
 "metadata": {
  "kernelspec": {
   "display_name": "Julia 0.4.5",
   "language": "julia",
   "name": "julia-0.4"
  },
  "language_info": {
   "file_extension": ".jl",
   "mimetype": "application/julia",
   "name": "julia",
   "version": "0.4.5"
  }
 },
 "nbformat": 4,
 "nbformat_minor": 0
}
