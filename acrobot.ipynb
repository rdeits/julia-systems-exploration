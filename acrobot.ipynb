{
 "cells": [
  {
   "cell_type": "code",
   "execution_count": 116,
   "metadata": {
    "collapsed": false
   },
   "outputs": [],
   "source": [
    "using Interpolations\n",
    "using ProfileView\n",
    "using ForwardDiff\n",
    "using PyPlot\n",
    "using FixedSizeArrays"
   ]
  },
  {
   "cell_type": "code",
   "execution_count": 117,
   "metadata": {
    "collapsed": false,
    "scrolled": true
   },
   "outputs": [
    {
     "name": "stderr",
     "output_type": "stream",
     "text": [
      "WARNING: replacing module Acrobots\n",
      "WARNING: Method definition isapprox(#FSA<:FixedSizeArrays.FixedArray, #A<:Union{Array, FixedSizeArrays.FixedArray}, Real) in module Acrobots at /home/rdeits/locomotion/explorations/julia-systems-exploration/Acrobots/src/system_types.jl:28 overwritten in module Acrobots at /home/rdeits/locomotion/explorations/julia-systems-exploration/Acrobots/src/system_types.jl:28.\n",
      "WARNING: Method definition call(Type{FixedSizeArrays.Mat{0, 0, #T<:Any}}, Number) in module Acrobots at /home/rdeits/locomotion/explorations/julia-systems-exploration/Acrobots/src/affine.jl:30 overwritten in module Acrobots at /home/rdeits/locomotion/explorations/julia-systems-exploration/Acrobots/src/affine.jl:30.\n",
      "WARNING: Method definition call(Type{FixedSizeArrays.Mat{0, #N<:Any, #T<:Any}}) in module Acrobots at /home/rdeits/locomotion/explorations/julia-systems-exploration/Acrobots/src/affine.jl:31 overwritten in module Acrobots at /home/rdeits/locomotion/explorations/julia-systems-exploration/Acrobots/src/affine.jl:31.\n",
      "WARNING: Method definition call(Type{FixedSizeArrays.Mat{0, #N<:Any, #T<:Any}}, Number) in module Acrobots at /home/rdeits/locomotion/explorations/julia-systems-exploration/Acrobots/src/affine.jl:32 overwritten in module Acrobots at /home/rdeits/locomotion/explorations/julia-systems-exploration/Acrobots/src/affine.jl:32.\n",
      "WARNING: Method definition call(Type{FixedSizeArrays.Mat{#M<:Any, 0, #T<:Any}}, Number) in module Acrobots at /home/rdeits/locomotion/explorations/julia-systems-exploration/Acrobots/src/affine.jl:33 overwritten in module Acrobots at /home/rdeits/locomotion/explorations/julia-systems-exploration/Acrobots/src/affine.jl:33.\n",
      "WARNING: Method definition *(Real, FixedSizeArrays.Mat{0, 0, #T<:Any}) in module Acrobots at /home/rdeits/locomotion/explorations/julia-systems-exploration/Acrobots/src/affine.jl:45 overwritten in module Acrobots at /home/rdeits/locomotion/explorations/julia-systems-exploration/Acrobots/src/affine.jl:45.\n",
      "WARNING: Method definition *(Real, FixedSizeArrays.Mat{0, #N<:Any, #T<:Any}) in module Acrobots at /home/rdeits/locomotion/explorations/julia-systems-exploration/Acrobots/src/affine.jl:46 overwritten in module Acrobots at /home/rdeits/locomotion/explorations/julia-systems-exploration/Acrobots/src/affine.jl:46.\n",
      "WARNING: Method definition *(Real, FixedSizeArrays.Mat{#M<:Any, 0, #T<:Any}) in module Acrobots at /home/rdeits/locomotion/explorations/julia-systems-exploration/Acrobots/src/affine.jl:47 overwritten in module Acrobots at /home/rdeits/locomotion/explorations/julia-systems-exploration/Acrobots/src/affine.jl:47.\n",
      "WARNING: Method definition +(FixedSizeArrays.Mat{0, 0, #T<:Any}, FixedSizeArrays.Mat{0, 0, #T<:Any}) in module Acrobots at /home/rdeits/locomotion/explorations/julia-systems-exploration/Acrobots/src/affine.jl:56 overwritten in module Acrobots at /home/rdeits/locomotion/explorations/julia-systems-exploration/Acrobots/src/affine.jl:56.\n",
      "WARNING: Method definition +(FixedSizeArrays.Mat{0, #N<:Any, #T<:Any}, FixedSizeArrays.Mat{0, #N<:Any, #T<:Any}) in module Acrobots at /home/rdeits/locomotion/explorations/julia-systems-exploration/Acrobots/src/affine.jl:57 overwritten in module Acrobots at /home/rdeits/locomotion/explorations/julia-systems-exploration/Acrobots/src/affine.jl:57.\n",
      "WARNING: Method definition +(FixedSizeArrays.Mat{#M<:Any, 0, #T<:Any}, FixedSizeArrays.Mat{#M<:Any, 0, #T<:Any}) in module Acrobots at /home/rdeits/locomotion/explorations/julia-systems-exploration/Acrobots/src/affine.jl:58 overwritten in module Acrobots at /home/rdeits/locomotion/explorations/julia-systems-exploration/Acrobots/src/affine.jl:58.\n"
     ]
    },
    {
     "data": {
      "text/plain": [
       "Acrobots"
      ]
     },
     "execution_count": 117,
     "metadata": {},
     "output_type": "execute_result"
    }
   ],
   "source": [
    "include(\"Acrobots/src/Acrobots.jl\")"
   ]
  },
  {
   "cell_type": "code",
   "execution_count": 118,
   "metadata": {
    "collapsed": false
   },
   "outputs": [
    {
     "data": {
      "text/plain": [
       "unwrap (generic function with 1 method)"
      ]
     },
     "execution_count": 118,
     "metadata": {},
     "output_type": "execute_result"
    }
   ],
   "source": [
    "function unwrap{State}(state::State)\n",
    "    if state.theta1 < 0\n",
    "        state = State(state.theta1 + 2*pi, state.theta2, state.theta1dot, state.theta2dot)\n",
    "    end\n",
    "    if state.theta1 > 2*pi\n",
    "        state = State(state.theta1 - 2*pi, state.theta2, state.theta1dot, state.theta2dot)\n",
    "    end\n",
    "    state\n",
    "end\n",
    "    "
   ]
  },
  {
   "cell_type": "code",
   "execution_count": 217,
   "metadata": {
    "collapsed": false
   },
   "outputs": [
    {
     "name": "stdout",
     "output_type": "stream",
     "text": [
      "(elapsed / length(ts)) * 1.0e6 = 666.7048094381124"
     ]
    },
    {
     "data": {
      "text/plain": [
       "666.7048094381124"
      ]
     },
     "execution_count": 217,
     "metadata": {},
     "output_type": "execute_result"
    }
   ],
   "source": [
    "xdes = Acrobots.AcrobotState{Float64}(pi, 0, 0, 0)\n",
    "x0 = Acrobots.AcrobotState{Float64}([[0; 0] + 0.2*(rand(2)-0.5); zeros(2)]) + Acrobots.AcrobotState(0, 0, 0, 0)\n",
    "state = x0\n",
    "robot = Acrobots.acrobot()\n",
    "input = Acrobots.AcrobotInput{Float64}(0)\n",
    "dt = 0.001\n",
    "vis = Acrobots.DrakeVisualizer(robot)\n",
    "ts = 0:dt:5\n",
    "Qf = diagm([1.,1,1,1])\n",
    "Rf = eye(1)\n",
    "\n",
    "function energy(robot, state::Acrobots.AcrobotState)\n",
    "    I1 = robot.links[1].inertia + robot.links[1].mass * robot.links[1].length_to_CoM^2\n",
    "    I2 = robot.links[2].inertia + robot.links[2].mass * robot.links[2].length_to_CoM^2\n",
    "    \n",
    "    position = convert(Acrobots.AcrobotPosition, state)\n",
    "    velocity = convert(Acrobots.AcrobotVelocity, state)\n",
    "    \n",
    "    c = cos(position)\n",
    "    s = sin(position)\n",
    "    c12 = cos(position.theta1 + position.theta2)\n",
    "    \n",
    "    m2l1lc2c2 = robot.links[2].mass * robot.links[1].length * robot.links[2].length_to_CoM * c[2]\n",
    "    \n",
    "    T = 0.5 * I1 * velocity.theta1^2 + 0.5 * (robot.links[2].mass * robot.links[1].length^2 + \n",
    "        I2 + 2 * m2l1lc2c2) * velocity.theta1^2 +\n",
    "        0.5 * I2 * velocity.theta2^2 + (I2 + m2l1lc2c2) * velocity.theta1 * velocity.theta2\n",
    "    U = -robot.links[1].mass * robot.gravity * robot.links[1].length_to_CoM * c[1] -\n",
    "        robot.links[2].mass * robot.gravity * (robot.links[1].length * c[1] + robot.links[2].length_to_CoM * c12)\n",
    "    \n",
    "    return T, U\n",
    "end\n",
    "\n",
    "Edes = sum(energy(robot, xdes))\n",
    "function cost(state::Acrobots.AcrobotState)\n",
    "#     if state.theta1 > 0\n",
    "#         x = convert(Vector, state - xdes)\n",
    "#     else\n",
    "#         x = convert(Vector, state - Acrobots.AcrobotState{Float64}(-pi, 0, 0, 0))\n",
    "#     end\n",
    "#     return 0.5*(x' * Qf * x)[1]\n",
    "#     y = cos(state.theta1) + 2*cos(state.theta2 + state.theta1)\n",
    "#     return 10*(y + 3)^2 + state.theta1dot^2 + state.theta2dot^2 \n",
    "    T, U = energy(robot, state)\n",
    "    return 100 * ((T + U) - Edes)^2 + state.theta1dot^2 + state.theta2dot^2 \n",
    "end\n",
    "Q_generator = ForwardDiff.hessian(x -> cost(Acrobots.AcrobotState(x)), ForwardDiff.AllResults)\n",
    "\n",
    "function cost(input::Acrobots.AcrobotInput)\n",
    "    return 1e-6*0.5*input.tau^2\n",
    "end\n",
    "R_generator = ForwardDiff.hessian(x -> cost(Acrobots.AcrobotInput(x)), ForwardDiff.AllResults)\n",
    "\n",
    "sys_tf = Acrobots.linearize(robot, 0, xdes, input)\n",
    "S_final = Mat(Qf)\n",
    "\n",
    "Qs = Mat{4, 4, Float64}[]\n",
    "Rs = Mat{1, 1, Float64}[]\n",
    "qs = Vec{4, Float64}[]\n",
    "rs = Vec{1, Float64}[]\n",
    "Ps = Mat{4, 4, Float64}[]\n",
    "ps = Vec{4, Float64}[]\n",
    "\n",
    "controller_state = Acrobots.LQRState{Float64}(())\n",
    "linear_sys = Acrobots.linearize(robot, 0, x0, input)\n",
    "controller = Acrobots.lqr(linear_sys, Qf, Rf, x0)\n",
    "linearizations = typeof(linear_sys)[]\n",
    "\n",
    "Profile.clear()\n",
    "elapsed = @elapsed for (i, t) in enumerate(ts)\n",
    "    output = Acrobots.output(robot, t, state, input)\n",
    "    input = Acrobots.output(controller, t, controller_state, output)\n",
    "    input = max(min(input, 10), -10)\n",
    "    statedot = Acrobots.dynamics(robot, t, state, input)\n",
    "    state += statedot * dt\n",
    "#     state = unwrap(state)\n",
    "    push!(linearizations, Acrobots.linearize(robot, t, state, input))\n",
    "    \n",
    "    Q, Q_results = Q_generator(convert(Vector, state))\n",
    "    push!(Qs, Q)\n",
    "    push!(qs, ForwardDiff.gradient(Q_results))\n",
    "    R, R_results = R_generator(convert(Vector, input))\n",
    "    push!(Rs, R)\n",
    "    push!(rs, ForwardDiff.gradient(R_results))\n",
    "    \n",
    "#     if mod(i, 10) == 0\n",
    "        Acrobots.draw(vis, state)\n",
    "#     end\n",
    "end\n",
    "@show elapsed / length(ts) * 1e6\n",
    "# ProfileView.view()"
   ]
  },
  {
   "cell_type": "code",
   "execution_count": 219,
   "metadata": {
    "collapsed": false
   },
   "outputs": [],
   "source": [
    "alpha = 0.5\n",
    "\n",
    "for i = 1:10\n",
    "\n",
    "    Ps = Array{Mat{4, 4, Float64}}(length(ts))\n",
    "    ps = Array{Vec{4, Float64}}(length(ts))\n",
    "    Ks = Array{Mat{1, 4, Float64}}(length(ts))\n",
    "    ls = Array{Vec{1, Float64}}(length(ts))\n",
    "    As = [Mat(eye(4)) + dt * sys.A for sys in linearizations]\n",
    "    Bs = [dt * sys.B for sys in linearizations]\n",
    "\n",
    "    Ps[end] = S_final\n",
    "    ps[end] = S_final * (linearizations[end].x0 - xdes)\n",
    "\n",
    "    for j = (length(ts)-1):-1:1\n",
    "        g = rs[j] + Bs[j]' * ps[j+1]\n",
    "        G = Bs[j]' * Ps[j+1] * As[j]\n",
    "        H = Rs[j] + Bs[j]' * Ps[j+1] * Bs[j]\n",
    "        Hi = inv(H)\n",
    "        Ks[j] = -Hi * G\n",
    "        ls[j] = -Hi * g\n",
    "\n",
    "        Ps[j] = Qs[j] + As[j]' * Ps[j+1] * As[j] + Ks[j]' * H * Ks[j] + Ks[j]' * G + G' * Ks[j]\n",
    "        ps[j] = qs[j] + As[j]' * ps[j+1] + Ks[j]' * H * ls[j] + Ks[j]' * g + G' * ls[j]\n",
    "    end\n",
    "    Ks[end] = 0\n",
    "    ls[end] = 0\n",
    "\n",
    "    controllers = [Acrobots.AffineSystem(\n",
    "        Mat{0,0,Float64}(),\n",
    "        Mat{0,4,Float64}(),\n",
    "        Mat{1,0,Float64}(),\n",
    "        Mat{1,4,Float64}(Ks[j]),\n",
    "        Acrobots.LQRState{Float64}(),\n",
    "        Acrobots.AcrobotOutput{Float64}(linearizations[j].x0),\n",
    "        Acrobots.LQRState{Float64}(),\n",
    "        Acrobots.AcrobotInput{Float64}(linearizations[j].u0) + Acrobots.AcrobotInput{Float64}(alpha * ls[j])) \n",
    "        for j in 1:length(ts)]\n",
    "\n",
    "\n",
    "    state = x0\n",
    "    input = Acrobots.AcrobotInput{Float64}(0)\n",
    "    empty!(linearizations)\n",
    "    empty!(Qs)\n",
    "    empty!(Rs)\n",
    "    empty!(qs)\n",
    "    empty!(rs)\n",
    "\n",
    "    for (i, t) in enumerate(ts)\n",
    "        output = Acrobots.output(robot, t, state, input)\n",
    "        input = Acrobots.output(controllers[i], t, controller_state, output)\n",
    "        input = max(min(input, 10), -10)\n",
    "        statedot = Acrobots.dynamics(robot, t, state, input)\n",
    "        state += statedot * dt\n",
    "        \n",
    "        if any(isnan, state)\n",
    "            @show output input statedot state controllers[i]\n",
    "            error(\"nan\")\n",
    "        end \n",
    "        if any(isinf, state)\n",
    "            @show output input statedot state controllers[i]\n",
    "            error(\"inf\")\n",
    "        end\n",
    "        \n",
    "#         state = unwrap(state)\n",
    "        push!(linearizations, Acrobots.linearize(robot, t, state, input))\n",
    "\n",
    "        Q, Q_results = Q_generator(convert(Vector, state))\n",
    "        push!(Qs, Q)\n",
    "        push!(qs, ForwardDiff.gradient(Q_results))\n",
    "        R, R_results = R_generator(convert(Vector, input))\n",
    "        push!(Rs, R)\n",
    "        push!(rs, ForwardDiff.gradient(R_results))\n",
    "\n",
    "        if mod(i, 10) == 0\n",
    "            Acrobots.draw(vis, state)\n",
    "        end\n",
    "    end\n",
    "    \n",
    "end"
   ]
  },
  {
   "cell_type": "code",
   "execution_count": 6,
   "metadata": {
    "collapsed": false
   },
   "outputs": [],
   "source": [
    "robot = Acrobots.acrobot()\n",
    "state = Acrobots.AcrobotState{Float64}([1.; 2.;3.; 4.])\n",
    "input = Acrobots.AcrobotInput{Float64}(5.)\n",
    "statedot = Acrobots.dynamics(robot, 0, state, input)\n",
    "expected = Acrobots.AcrobotState{Float64}(3.0000, 4.0000, 21.3827, -18.4276)\n",
    "@assert isapprox(statedot, expected, 1e-4)\n",
    "\n",
    "linear_sys = Acrobots.linearize(robot, 0, state, input)\n",
    "@assert isapprox(statedot, Acrobots.dynamics(linear_sys, 0, state, input), 1e-9)\n",
    "\n",
    "vis = Acrobots.DrakeVisualizer(robot)\n",
    "state = Acrobots.AcrobotState{Float64}([pi/4;pi/4;0;0])\n",
    "Acrobots.draw(vis, state)"
   ]
  },
  {
   "cell_type": "code",
   "execution_count": null,
   "metadata": {
    "collapsed": false
   },
   "outputs": [],
   "source": []
  },
  {
   "cell_type": "code",
   "execution_count": null,
   "metadata": {
    "collapsed": true
   },
   "outputs": [],
   "source": []
  }
 ],
 "metadata": {
  "kernelspec": {
   "display_name": "Julia 0.4.5",
   "language": "julia",
   "name": "julia-0.4"
  },
  "language_info": {
   "file_extension": ".jl",
   "mimetype": "application/julia",
   "name": "julia",
   "version": "0.4.5"
  }
 },
 "nbformat": 4,
 "nbformat_minor": 0
}
