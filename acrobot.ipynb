{
 "cells": [
  {
   "cell_type": "code",
   "execution_count": 20,
   "metadata": {
    "collapsed": false
   },
   "outputs": [
    {
     "name": "stderr",
     "output_type": "stream",
     "text": [
      "WARNING: replacing module Acrobots\n",
      "WARNING: Method definition isapprox(#FSA<:FixedSizeArrays.FixedArray, #A<:Union{Array, FixedSizeArrays.FixedArray}, Real) in module Acrobots at /home/rdeits/locomotion/explorations/julia-systems-exploration/Acrobots/src/system_types.jl:28 overwritten in module Acrobots at /home/rdeits/locomotion/explorations/julia-systems-exploration/Acrobots/src/system_types.jl:28.\n"
     ]
    },
    {
     "data": {
      "text/plain": [
       "Acrobots"
      ]
     },
     "execution_count": 20,
     "metadata": {},
     "output_type": "execute_result"
    }
   ],
   "source": [
    "include(\"Acrobots/src/Acrobots.jl\")"
   ]
  },
  {
   "cell_type": "code",
   "execution_count": 32,
   "metadata": {
    "collapsed": false
   },
   "outputs": [
    {
     "name": "stdout",
     "output_type": "stream",
     "text": [
      "(elapsed / length(ts)) * 1.0e6 = 487.60426014797036"
     ]
    },
    {
     "data": {
      "text/plain": [
       "487.60426014797036"
      ]
     },
     "execution_count": 32,
     "metadata": {},
     "output_type": "execute_result"
    },
    {
     "name": "stdout",
     "output_type": "stream",
     "text": [
      "\n"
     ]
    }
   ],
   "source": [
    "using ProfileView\n",
    "robot = Acrobots.acrobot()\n",
    "xbar = Acrobots.AcrobotState{Float64}([pi; 0; 0; 0])\n",
    "ybar = Acrobots.AcrobotOutput(xbar)\n",
    "state = Acrobots.AcrobotState{Float64}([[pi; 0] + 0.2*(rand(2)-0.5); zeros(2)])\n",
    "robot = Acrobots.acrobot()\n",
    "input = Acrobots.AcrobotInput{Float64}(0)\n",
    "dt = 0.001\n",
    "vis = Acrobots.DrakeVisualizer(robot)\n",
    "ts = 0:dt:5\n",
    "\n",
    "\n",
    "controller_state = Acrobots.LQRState{Float64}(())\n",
    "linear_sys = Acrobots.linearize(robot, 0, xbar, input)\n",
    "controller = Acrobots.lqr(linear_sys, diagm([10,10,1,1]), eye(1))\n",
    "linearizations = [linear_sys]\n",
    "\n",
    "Profile.clear()\n",
    "elapsed = @elapsed @profile for (i, t) in enumerate(ts)\n",
    "    output = Acrobots.output(robot, t, state, input)\n",
    "    input = Acrobots.output(controller, t, controller_state, output)\n",
    "    statedot = Acrobots.dynamics(robot, t, state, input)\n",
    "    state += statedot * dt\n",
    "    push!(linearizations, Acrobots.linearize(robot, t, state, input))\n",
    "    \n",
    "    Acrobots.draw(vis, state)\n",
    "end\n",
    "@show elapsed / length(ts) * 1e6\n",
    "# ProfileView.view()"
   ]
  },
  {
   "cell_type": "code",
   "execution_count": 8,
   "metadata": {
    "collapsed": false
   },
   "outputs": [
    {
     "data": {
      "text/plain": [
       "Acrobots.AcrobotInput{Float64}(0.0)"
      ]
     },
     "execution_count": 8,
     "metadata": {},
     "output_type": "execute_result"
    }
   ],
   "source": [
    "robot = Acrobots.acrobot()\n",
    "state = Acrobots.AcrobotState{Float64}(0.)\n",
    "input = Acrobots.AcrobotInput{Float64}(0.)"
   ]
  },
  {
   "cell_type": "code",
   "execution_count": 31,
   "metadata": {
    "collapsed": false
   },
   "outputs": [],
   "source": [
    "state = Acrobots.AcrobotState{Float64}([1.; 2.;3.; 4.])\n",
    "input = Acrobots.AcrobotInput{Float64}(5.)\n",
    "statedot = Acrobots.dynamics(robot, 0, state, input)\n",
    "expected = Acrobots.AcrobotState{Float64}(3.0000, 4.0000, 21.3827, -18.4276)\n",
    "@assert isapprox(statedot, expected, 1e-4)\n",
    "\n",
    "linear_sys = Acrobots.linearize(robot, 0, state, input)\n",
    "@assert isapprox(statedot, Acrobots.dynamics(linear_sys, 0, state, input), 1e-9)\n"
   ]
  },
  {
   "cell_type": "code",
   "execution_count": 10,
   "metadata": {
    "collapsed": false
   },
   "outputs": [],
   "source": [
    "vis = Acrobots.DrakeVisualizer(robot)\n",
    "state = Acrobots.AcrobotState{Float64}([pi/4;pi/4;0;0])\n",
    "Acrobots.draw(vis, state)"
   ]
  },
  {
   "cell_type": "code",
   "execution_count": 11,
   "metadata": {
    "collapsed": false
   },
   "outputs": [
    {
     "data": {
      "text/plain": [
       "Acrobots.AffineSystem{Float64,Acrobots.AcrobotState{T},Acrobots.AcrobotInput{T},Acrobots.AcrobotOutput{T},4,1,4}(FixedSizeArrays.Mat{4,4,Float64}(\n",
       "    0.0 0.0 1.0 0.0\n",
       "    0.0 0.0 0.0 1.0\n",
       "    -10.87191466604566 -1.1897211413655562 -0.10448664063666145 0.16003792795815408\n",
       "    16.652068489235408 -1.0605862390369154 0.16003792795815408 -0.3203115400681201\n",
       ")\n",
       ",FixedSizeArrays.Mat{4,1,Float64}(\n",
       "    0.0\n",
       "    0.0\n",
       "    -1.6003792795815406\n",
       "    3.203115400681201\n",
       ")\n",
       ",FixedSizeArrays.Mat{4,4,Float64}(\n",
       "    1.0 0.0 0.0 0.0\n",
       "    0.0 1.0 0.0 0.0\n",
       "    0.0 0.0 1.0 0.0\n",
       "    0.0 0.0 0.0 1.0\n",
       ")\n",
       ",FixedSizeArrays.Mat{4,1,Float64}(\n",
       "    0.0\n",
       "    0.0\n",
       "    0.0\n",
       "    0.0\n",
       ")\n",
       ",Acrobots.AcrobotState{Float64}(0.7853981633974483,0.7853981633974483,0.0,0.0),Acrobots.AcrobotInput{Float64}(0.0))"
      ]
     },
     "execution_count": 11,
     "metadata": {},
     "output_type": "execute_result"
    }
   ],
   "source": [
    "linear_sys = Acrobots.linearize(robot, 0, state, input)"
   ]
  },
  {
   "cell_type": "code",
   "execution_count": 12,
   "metadata": {
    "collapsed": false
   },
   "outputs": [
    {
     "data": {
      "text/plain": [
       "Acrobots.AcrobotState{Float64}(0.0,0.0,0.0,0.0)"
      ]
     },
     "execution_count": 12,
     "metadata": {},
     "output_type": "execute_result"
    }
   ],
   "source": [
    "Acrobots.dynamics(linear_sys, 0, state, input)"
   ]
  },
  {
   "cell_type": "code",
   "execution_count": 256,
   "metadata": {
    "collapsed": false
   },
   "outputs": [
    {
     "data": {
      "text/plain": [
       "Acrobots.AcrobotOutput{Float64}(1.0,2.0,3.0,4.0)"
      ]
     },
     "execution_count": 256,
     "metadata": {},
     "output_type": "execute_result"
    }
   ],
   "source": [
    "Acrobots.output(robot, 0, Acrobots.AcrobotState{Float64}([1.; 2.; 3.; 4.]), Acrobots.AcrobotInput{Float64}(5.))"
   ]
  },
  {
   "cell_type": "code",
   "execution_count": null,
   "metadata": {
    "collapsed": true
   },
   "outputs": [],
   "source": []
  }
 ],
 "metadata": {
  "kernelspec": {
   "display_name": "Julia 0.4.5",
   "language": "julia",
   "name": "julia-0.4"
  },
  "language_info": {
   "file_extension": ".jl",
   "mimetype": "application/julia",
   "name": "julia",
   "version": "0.4.5"
  }
 },
 "nbformat": 4,
 "nbformat_minor": 0
}
