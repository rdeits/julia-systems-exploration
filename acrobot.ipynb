{
 "cells": [
  {
   "cell_type": "code",
   "execution_count": 74,
   "metadata": {
    "collapsed": false
   },
   "outputs": [
    {
     "name": "stderr",
     "output_type": "stream",
     "text": [
      "WARNING: replacing module Acrobots\n",
      "WARNING: Method definition *(FixedSizeArrays.Mat{#M<:Any, #N<:Any, #T<:Any}, FixedSizeArrays.FixedVectorNoTuple{#N<:Any, #T<:Any}) in module Acrobots at /Users/rdeits/locomotion/explorations/julia-systems/Acrobots/src/Acrobots.jl:181 overwritten in module Acrobots at /Users/rdeits/locomotion/explorations/julia-systems/Acrobots/src/linear.jl:8.\n"
     ]
    },
    {
     "data": {
      "text/plain": [
       "Acrobots"
      ]
     },
     "execution_count": 74,
     "metadata": {},
     "output_type": "execute_result"
    }
   ],
   "source": [
    "include(\"Acrobots/src/Acrobots.jl\")"
   ]
  },
  {
   "cell_type": "code",
   "execution_count": 75,
   "metadata": {
    "collapsed": false
   },
   "outputs": [
    {
     "data": {
      "text/plain": [
       "Acrobots.AcrobotInput{Float64}(0.0)"
      ]
     },
     "execution_count": 75,
     "metadata": {},
     "output_type": "execute_result"
    }
   ],
   "source": [
    "robot = Acrobots.acrobot()\n",
    "state = Acrobots.AcrobotState{Float64}(0.)\n",
    "input = Acrobots.AcrobotInput{Float64}(0.)"
   ]
  },
  {
   "cell_type": "code",
   "execution_count": 77,
   "metadata": {
    "collapsed": false
   },
   "outputs": [],
   "source": [
    "vis = Acrobots.DrakeVisualizer(robot)\n",
    "state = Acrobots.AcrobotState{Float64}([pi/4;pi/4;0;0])\n",
    "Acrobots.draw(vis, state)"
   ]
  },
  {
   "cell_type": "code",
   "execution_count": 78,
   "metadata": {
    "collapsed": false
   },
   "outputs": [
    {
     "data": {
      "text/plain": [
       "Acrobots.AcrobotState{Float64}(3.0,4.0,21.382653016334,-18.427570843977477)"
      ]
     },
     "execution_count": 78,
     "metadata": {},
     "output_type": "execute_result"
    }
   ],
   "source": [
    "Acrobots.dynamics(robot, 0, Acrobots.AcrobotState{Float64}([1.; 2.;3.; 4.]), Acrobots.AcrobotInput{Float64}(5.))"
   ]
  },
  {
   "cell_type": "code",
   "execution_count": 79,
   "metadata": {
    "collapsed": false
   },
   "outputs": [
    {
     "data": {
      "text/plain": [
       "Acrobots.AcrobotOutput{Float64}(1.0,2.0,3.0,4.0)"
      ]
     },
     "execution_count": 79,
     "metadata": {},
     "output_type": "execute_result"
    }
   ],
   "source": [
    "Acrobots.output(robot, 0, Acrobots.AcrobotState{Float64}([1.; 2.; 3.; 4.]), Acrobots.AcrobotInput{Float64}(5.))"
   ]
  },
  {
   "cell_type": "code",
   "execution_count": 80,
   "metadata": {
    "collapsed": false
   },
   "outputs": [
    {
     "name": "stdout",
     "output_type": "stream",
     "text": [
      "elapsed / length(ts) = 0.0007720171575684863"
     ]
    },
    {
     "data": {
      "text/plain": [
       "0.0007720171575684863"
      ]
     },
     "execution_count": 80,
     "metadata": {},
     "output_type": "execute_result"
    },
    {
     "name": "stdout",
     "output_type": "stream",
     "text": [
      "\n"
     ]
    }
   ],
   "source": [
    "using ProfileView\n",
    "\n",
    "state = Acrobots.AcrobotState{Float64}([randn(2); zeros(2)])\n",
    "robot = Acrobots.acrobot()\n",
    "input = Acrobots.AcrobotInput{Float64}(0)\n",
    "dt = 0.001\n",
    "vis = Acrobots.DrakeVisualizer(robot)\n",
    "ts = 0:dt:5\n",
    "for (i, t) in enumerate(ts[1:100])\n",
    "    statedot = Acrobots.dynamics(robot, t, state, input)\n",
    "    state += statedot * dt\n",
    "    Acrobots.draw(vis, state)\n",
    "end\n",
    "# Profile.clear()\n",
    "elapsed = @elapsed for (i, t) in enumerate(ts)\n",
    "    statedot = Acrobots.dynamics(robot, t, state, input)\n",
    "    linear_system = Acrobots.linearize(robot, t, state, input)\n",
    "    \n",
    "    perturbation = 1e-4 * Acrobots.AcrobotState{Float64}(1)\n",
    "    perturbed_state = state + perturbation\n",
    "    \n",
    "    \n",
    "    @assert isapprox(convert(Vector, Acrobots.dynamics(robot, t, perturbed_state, input)), \n",
    "    convert(Vector, statedot + Acrobots.dynamics(linear_system, t, perturbation, Acrobots.AcrobotInput{Float64}(0))), atol=1e-6)\n",
    "    state += statedot * dt\n",
    "    Acrobots.draw(vis, state)\n",
    "end\n",
    "@show elapsed / length(ts)\n",
    "# ProfileView.view()"
   ]
  },
  {
   "cell_type": "code",
   "execution_count": null,
   "metadata": {
    "collapsed": true
   },
   "outputs": [],
   "source": []
  }
 ],
 "metadata": {
  "kernelspec": {
   "display_name": "Julia 0.4.5",
   "language": "julia",
   "name": "julia-0.4"
  },
  "language_info": {
   "file_extension": ".jl",
   "mimetype": "application/julia",
   "name": "julia",
   "version": "0.4.5"
  }
 },
 "nbformat": 4,
 "nbformat_minor": 0
}
