{
 "cells": [
  {
   "cell_type": "code",
   "execution_count": 103,
   "metadata": {
    "collapsed": false
   },
   "outputs": [
    {
     "name": "stderr",
     "output_type": "stream",
     "text": [
      "WARNING: replacing module Acrobots\n"
     ]
    }
   ],
   "source": [
    "# workspace()\n",
    "module Acrobots\n",
    "\n",
    "using FixedSizeArrays\n",
    "using Quaternions\n",
    "import Base: convert\n",
    "\n",
    "type State{PositionType, VelocityType}\n",
    "    position::PositionType\n",
    "    velocity::VelocityType\n",
    "end\n",
    "\n",
    "abstract Position{N, T} <: FixedVectorNoTuple{N, T}\n",
    "\n",
    "immutable AcrobotPosition{T} <: Position{2, T}\n",
    "    theta1::T\n",
    "    theta2::T\n",
    "    function AcrobotPosition(a::NTuple{2, T})\n",
    "        new{T}(a[1], a[2])\n",
    "    end\n",
    "end\n",
    "\n",
    "abstract Velocity{N, T} <: FixedVectorNoTuple{N, T}\n",
    "\n",
    "immutable AcrobotVelocity{T} <: Velocity{2, T}\n",
    "    theta1::T\n",
    "    theta2::T\n",
    "    function AcrobotVelocity(a::NTuple{2, T})\n",
    "        new{T}(a[1], a[2])\n",
    "    end\n",
    "end\n",
    "\n",
    "abstract Input{N, T} <: FixedVectorNoTuple{N, T}\n",
    "\n",
    "immutable AcrobotInput{T} <: Input{1, T}\n",
    "    tau::T\n",
    "    function AcrobotInput(a::NTuple{1, T})\n",
    "        new{T}(a[1])\n",
    "    end\n",
    "end\n",
    "\n",
    "typealias AcrobotState{T} State{AcrobotPosition{T}, AcrobotVelocity{T}}\n",
    "\n",
    "abstract Manipulator\n",
    "\n",
    "type AcrobotLink{T}\n",
    "    length::T\n",
    "    mass::T\n",
    "    damping::T\n",
    "    length_to_CoM::T\n",
    "    inertia::T\n",
    "end\n",
    "\n",
    "type Acrobot{T} <: Manipulator\n",
    "    links::NTuple{2, AcrobotLink{T}}\n",
    "    gravity::T\n",
    "end\n",
    "    \n",
    "function dynamics{State, Input}(robot::Manipulator, time, state::State, input::Input)\n",
    "    H, C, B = manipulator_dynamics(robot, state)\n",
    "    H_inv = inv(H)\n",
    "    tau = B * destructure([input]) - C\n",
    "    vdot = H_inv * tau\n",
    "    State(state.velocity, vec(vdot))\n",
    "end\n",
    "\n",
    "function manipulator_dynamics{T}(robot::Acrobot, state::AcrobotState{T})\n",
    "    inertias_about_joint = [robot.links[i].inertia + robot.links[i].mass * robot.links[i].length_to_CoM^2 for i in 1:2]\n",
    "    m2l1lc2 = robot.links[2].mass * robot.links[1].length * robot.links[2].length_to_CoM\n",
    "    \n",
    "    c = cos(state.position)\n",
    "    s = sin(state.position)\n",
    "    s12 = sin(state.position.theta1 + state.position.theta2)\n",
    "    \n",
    "    h12 = inertias_about_joint[2] + m2l1lc2 * c[2]\n",
    "    H = [inertias_about_joint[1] + inertias_about_joint[2] + robot.links[2].mass * robot.links[1].length^2 + 2 * m2l1lc2 * c[2]   h12;\n",
    "        h12                                                                                                                       inertias_about_joint[2]]\n",
    "    C = [-2 * m2l1lc2 * s[2] * state.velocity.theta2     -m2l1lc2 * s[2] * state.velocity.theta2;\n",
    "         m2l1lc2 * s[2] * state.velocity.theta1          0]\n",
    "    G = robot.gravity * [robot.links[1].mass * robot.links[1].length_to_CoM * s[1] + robot.links[2].mass * (robot.links[1].length * s[1] + robot.links[2].length_to_CoM * s12);\n",
    "                         robot.links[2].mass * robot.links[2].length_to_CoM * s12]\n",
    "#     v = destructure([state.velocity])\n",
    "    Cv = Float64[dot(AcrobotVelocity{T}(vec(C[i,:])), state.velocity) + G[i] + robot.links[i].damping * state.velocity[i] for i = 1:2]\n",
    "#     Cv = Array(Float64, 2)\n",
    "#     for i = 1:2\n",
    "#         Cv[i] = G[i] + robot.links[i].damping * state.velocity[i]\n",
    "#         for j = 1:2\n",
    "#             Cv[i] += C[i,j] * state.velocity[j]\n",
    "#         end\n",
    "#     end\n",
    "        \n",
    "    B = Float64[0; 1]\n",
    "    \n",
    "    H, Cv, B\n",
    "end\n",
    "    \n",
    "\n",
    "acrobot() = Acrobot((AcrobotLink(1.0, 1.0, 0.1, 0.5, 0.083), AcrobotLink(2.0, 1.0, 0.1, 1.0, 0.33)), 9.81)\n",
    "\n",
    "\n",
    "convert{PosType <: Position, VelType <: Velocity}(::Type{PosType}, state::State{PosType, VelType}) = state.position\n",
    "convert{PosType <: Position, VelType <: Velocity}(::Type{VelType}, state::State{PosType, VelType}) = state.velocity\n",
    "\n",
    "using PyLCM\n",
    "using PyCall\n",
    "\n",
    "@pyimport drake as lcmdrake\n",
    "\n",
    "function viewer_data(link::Acrobots.AcrobotLink, name)\n",
    "    msg = lcmdrake.lcmt_viewer_link_data()\n",
    "    msg[:name] = name\n",
    "    msg[:robot_num] = 1\n",
    "    msg[:num_geom] = 1\n",
    "    \n",
    "    geom = lcmdrake.lcmt_viewer_geometry_data()\n",
    "    geom[:type] = geom[:BOX]\n",
    "    geom[:position] = [0; 0; -link.length / 2]\n",
    "    quat = qrotation([0.; 1; 0], pi/2)\n",
    "    geom[:quaternion] = [quat.s; quat.v1; quat.v2; quat.v3]\n",
    "    geom[:color] = [0.2; 0.2; 0.8; 0.6]\n",
    "    geom[:string_data] = \"\"\n",
    "    geom[:float_data] = [link.length; link.length/10; link.length/10]\n",
    "    geom[:num_float_data] = 3\n",
    "    push!(msg[\"geom\"], geom)\n",
    "    \n",
    "    msg\n",
    "end\n",
    "\n",
    "function viewer_data(robot::Acrobot)\n",
    "    msg = lcmdrake.lcmt_viewer_load_robot()\n",
    "    msg[:num_links] = 2\n",
    "    for i in 1:2\n",
    "        push!(msg[\"link\"], viewer_data(robot.links[i], \"link$(i)\"))\n",
    "    end\n",
    "    msg\n",
    "end\n",
    "\n",
    "type DrakeVisualizer\n",
    "    robot::Manipulator\n",
    "    lcm::PyLCM.PyLCMWrapper\n",
    "end\n",
    "\n",
    "DrakeVisualizer(robot::Manipulator) = DrakeVisualizer(robot, LCM())\n",
    "\n",
    "function load_robot(vis::DrakeVisualizer)\n",
    "    load_msg = viewer_data(vis.robot)\n",
    "    publish(vis.lcm, \"DRAKE_VIEWER_LOAD_ROBOT\", load_msg)\n",
    "end\n",
    "\n",
    "\n",
    "rotmat(theta) = [cos(theta) -sin(theta); sin(theta) cos(theta)]\n",
    "\n",
    "function draw{T}(vis::DrakeVisualizer, state::AcrobotState{T})\n",
    "    msg = lcmdrake.lcmt_viewer_draw()\n",
    "    msg[:num_links] = 2\n",
    "    msg[:link_name] = [\"link1\"; \"link2\"]\n",
    "    msg[:robot_num] = [1; 1]\n",
    "    \n",
    "    p0 = [0; 0]\n",
    "    p1 = rotmat(state.position.theta1) * [0; -vis.robot.links[1].length]\n",
    "#     p2 = p1 + rotmat(state.position.theta1 + state.position.theta2) * [0; -robot.links[2].length]\n",
    "    \n",
    "    msg[:position] = Any[[0; 0; 0], [p1[1]; 0; p1[2]]]\n",
    "    quats = [qrotation([0; -1; 0], state.position.theta1);\n",
    "            qrotation([0.; -1; 0], state.position.theta1 + state.position.theta2)]\n",
    "    msg[:quaternion] = Any[[q.s; q.v1; q.v2; q.v3] for q in quats]\n",
    "    publish(vis.lcm, \"DRAKE_VIEWER_DRAW\", msg)\n",
    "end\n",
    "    \n",
    "\n",
    "end\n",
    "\n",
    "import Acrobots"
   ]
  },
  {
   "cell_type": "code",
   "execution_count": 104,
   "metadata": {
    "collapsed": false
   },
   "outputs": [
    {
     "data": {
      "text/plain": [
       "Acrobots.State{Acrobots.AcrobotPosition{Float64},Acrobots.AcrobotVelocity{Float64}}(Acrobots.AcrobotPosition{Float64}(0.0,0.0),Acrobots.AcrobotVelocity{Float64}(0.0,0.0))"
      ]
     },
     "execution_count": 104,
     "metadata": {},
     "output_type": "execute_result"
    }
   ],
   "source": [
    "robot = Acrobots.acrobot()\n",
    "state = Acrobots.AcrobotState{Float64}([0;0], [0;0])"
   ]
  },
  {
   "cell_type": "code",
   "execution_count": 105,
   "metadata": {
    "collapsed": false
   },
   "outputs": [],
   "source": [
    "vis = Acrobots.DrakeVisualizer(robot)\n",
    "Acrobots.load_robot(vis)\n",
    "state = Acrobots.AcrobotState{Float64}([pi/4;pi/4], [0;0])\n",
    "Acrobots.draw(vis, state)"
   ]
  },
  {
   "cell_type": "code",
   "execution_count": 106,
   "metadata": {
    "collapsed": false
   },
   "outputs": [
    {
     "data": {
      "text/plain": [
       "Acrobots.State{Acrobots.AcrobotPosition{Float64},Acrobots.AcrobotVelocity{Float64}}(Acrobots.AcrobotPosition{Float64}(3.0,4.0),Acrobots.AcrobotVelocity{Float64}(21.382653016334,-18.427570843977477))"
      ]
     },
     "execution_count": 106,
     "metadata": {},
     "output_type": "execute_result"
    }
   ],
   "source": [
    "Acrobots.dynamics(robot, 0, Acrobots.AcrobotState{Float64}([1.; 2.], [3.; 4.]), Acrobots.AcrobotInput{Float64}(5.))"
   ]
  },
  {
   "cell_type": "code",
   "execution_count": 114,
   "metadata": {
    "collapsed": false
   },
   "outputs": [],
   "source": [
    "using ProfileView\n",
    "\n",
    "state = Acrobots.AcrobotState{Float64}(randn(2), zeros(2))\n",
    "robot = Acrobots.acrobot()\n",
    "input = Acrobots.AcrobotInput{Float64}(0)\n",
    "dt = 0.001\n",
    "# pygui(true)\n",
    "# PyPlot.ion()\n",
    "# fig = figure(1)\n",
    "# clf()\n",
    "# ax = fig[:add_subplot](1,1,1)\n",
    "# vis = construct_visualizer(robot, ax)\n",
    "vis = Acrobots.DrakeVisualizer(robot)\n",
    "Acrobots.load_robot(vis)\n",
    "Profile.clear()\n",
    "ts = 0:dt:5\n",
    "for t = ts\n",
    "    statedot = Acrobots.dynamics(robot, t, state, input)\n",
    "    state.position += statedot.position * dt\n",
    "    state.velocity += statedot.velocity * dt\n",
    "    Acrobots.draw(vis, state)\n",
    "#     draw(vis, state)\n",
    "#     PyPlot.draw()\n",
    "end\n",
    "# elapsed = @elapsed @profile for t = ts\n",
    "#     statedot = Acrobots.dynamics(robot, t, state, input)\n",
    "#     state.position += statedot.position * dt\n",
    "#     state.velocity += statedot.velocity * dt\n",
    "#     Acrobots.draw(vis, state)\n",
    "# #     draw(vis, state)\n",
    "# #     PyPlot.draw()\n",
    "# end\n",
    "# @show elapsed / length(ts)\n",
    "# ProfileView.view()"
   ]
  },
  {
   "cell_type": "code",
   "execution_count": 32,
   "metadata": {
    "collapsed": false
   },
   "outputs": [
    {
     "ename": "LoadError",
     "evalue": "LoadError: TypeError: AcrobotVisualizer: in type definition, expected Type{T}, got Module\nwhile loading In[32], in expression starting on line 6",
     "output_type": "error",
     "traceback": [
      "LoadError: TypeError: AcrobotVisualizer: in type definition, expected Type{T}, got Module\nwhile loading In[32], in expression starting on line 6",
      ""
     ]
    }
   ],
   "source": [
    "using PyPlot\n",
    "\n",
    "rotmat(theta) = [cos(theta) -sin(theta); sin(theta) cos(theta)]\n",
    "\n",
    "\n",
    "type AcrobotVisualizer\n",
    "    robot::Acrobot\n",
    "    lines\n",
    "end\n",
    "\n",
    "function construct_visualizer(robot::Acrobot, ax)\n",
    "    AcrobotVisualizer(robot, (ax[:plot]([0,0],[0,0], \"bo-\"), ax[:plot]([0,0], [0,0], \"ro-\")))\n",
    "end\n",
    "\n",
    "function draw(vis::AcrobotVisualizer, position::AcrobotPosition)\n",
    "    p0 = [0; 0]\n",
    "    p1 = rotmat(position.theta1) * [0; -robot.links[1].length]\n",
    "    p2 = p1 + rotmat(position.theta1 + position.theta2) * [0; -robot.links[2].length]\n",
    "    vis.lines[1][1][:set_xdata]([p0[1], p1[1]])\n",
    "    vis.lines[1][1][:set_ydata]([p0[2], p1[2]])\n",
    "    vis.lines[2][1][:set_xdata]([p1[1], p2[1]])\n",
    "    vis.lines[2][1][:set_ydata]([p1[2], p2[2]])\n",
    "#     plot(, , \"bo-\")\n",
    "#     plot([p1[1], p2[1]], [p1[2], p2[2]], \"ro-\")\n",
    "    axis(\"equal\")\n",
    "    xlim([-3, 3])\n",
    "    ylim([-4, 1])\n",
    "end\n",
    "\n",
    "draw{Position, Velocity}(robot, state::State{Position, Velocity}) = draw(robot, convert(Position, state))"
   ]
  },
  {
   "cell_type": "code",
   "execution_count": 49,
   "metadata": {
    "collapsed": false
   },
   "outputs": [
    {
     "data": {
      "text/html": [
       "dot<i>{T<:FixedSizeArrays.FixedArray{T,NDim,SIZE}}</i>(a::<b>T<:FixedSizeArrays.FixedArray{T,NDim,SIZE}</b>, b::<b>T<:FixedSizeArrays.FixedArray{T,NDim,SIZE}</b>) at <a href=\"https://github.com/SimonDanisch/FixedSizeArrays.jl/tree/a369998415d26b34a585fffbda3afb42a051f369/src/ops.jl#L118\" target=\"_blank\">/Users/rdeits/.julia/v0.4/FixedSizeArrays/src/ops.jl:118</a>"
      ],
      "text/plain": [
       "dot{T<:FixedSizeArrays.FixedArray{T,NDim,SIZE}}(a::T<:FixedSizeArrays.FixedArray{T,NDim,SIZE}, b::T<:FixedSizeArrays.FixedArray{T,NDim,SIZE}) at /Users/rdeits/.julia/v0.4/FixedSizeArrays/src/ops.jl:118"
      ]
     },
     "execution_count": 49,
     "metadata": {},
     "output_type": "execute_result"
    }
   ],
   "source": [
    "@which dot(state.velocity, state.velocity)"
   ]
  },
  {
   "cell_type": "code",
   "execution_count": null,
   "metadata": {
    "collapsed": true
   },
   "outputs": [],
   "source": []
  }
 ],
 "metadata": {
  "kernelspec": {
   "display_name": "Julia 0.4.5",
   "language": "julia",
   "name": "julia-0.4"
  },
  "language_info": {
   "file_extension": ".jl",
   "mimetype": "application/julia",
   "name": "julia",
   "version": "0.4.5"
  }
 },
 "nbformat": 4,
 "nbformat_minor": 0
}
