{
 "cells": [
  {
   "cell_type": "code",
   "execution_count": 1,
   "metadata": {
    "collapsed": true
   },
   "outputs": [],
   "source": [
    "using Interpolations\n",
    "using ProfileView\n",
    "using ForwardDiff\n",
    "using FixedSizeArrays"
   ]
  },
  {
   "cell_type": "code",
   "execution_count": 87,
   "metadata": {
    "collapsed": false,
    "scrolled": true
   },
   "outputs": [
    {
     "name": "stderr",
     "output_type": "stream",
     "text": [
      "WARNING: replacing module Acrobots\n",
      "WARNING: Method definition isapprox(#FSA<:FixedSizeArrays.FixedArray, #A<:Union{Array, FixedSizeArrays.FixedArray}, Real) in module Acrobots at /Users/rdeits/locomotion/explorations/julia-systems/Acrobots/src/system_types.jl:28 overwritten in module Acrobots at /Users/rdeits/locomotion/explorations/julia-systems/Acrobots/src/system_types.jl:28.\n",
      "WARNING: Method definition call(Type{FixedSizeArrays.Mat{0, 0, #T<:Any}}, Number) in module Acrobots at /Users/rdeits/locomotion/explorations/julia-systems/Acrobots/src/affine.jl:20 overwritten in module Acrobots at /Users/rdeits/locomotion/explorations/julia-systems/Acrobots/src/affine.jl:20.\n",
      "WARNING: Method definition call(Type{FixedSizeArrays.Mat{0, #N<:Any, #T<:Any}}) in module Acrobots at /Users/rdeits/locomotion/explorations/julia-systems/Acrobots/src/affine.jl:21 overwritten in module Acrobots at /Users/rdeits/locomotion/explorations/julia-systems/Acrobots/src/affine.jl:21.\n",
      "WARNING: Method definition call(Type{FixedSizeArrays.Mat{0, #N<:Any, #T<:Any}}, Number) in module Acrobots at /Users/rdeits/locomotion/explorations/julia-systems/Acrobots/src/affine.jl:22 overwritten in module Acrobots at /Users/rdeits/locomotion/explorations/julia-systems/Acrobots/src/affine.jl:22.\n",
      "WARNING: Method definition call(Type{FixedSizeArrays.Mat{#M<:Any, 0, #T<:Any}}, Number) in module Acrobots at /Users/rdeits/locomotion/explorations/julia-systems/Acrobots/src/affine.jl:23 overwritten in module Acrobots at /Users/rdeits/locomotion/explorations/julia-systems/Acrobots/src/affine.jl:23.\n",
      "WARNING: Method definition *(Real, FixedSizeArrays.Mat{0, 0, #T<:Any}) in module Acrobots at /Users/rdeits/locomotion/explorations/julia-systems/Acrobots/src/affine.jl:35 overwritten in module Acrobots at /Users/rdeits/locomotion/explorations/julia-systems/Acrobots/src/affine.jl:35.\n",
      "WARNING: Method definition *(Real, FixedSizeArrays.Mat{0, #N<:Any, #T<:Any}) in module Acrobots at /Users/rdeits/locomotion/explorations/julia-systems/Acrobots/src/affine.jl:36 overwritten in module Acrobots at /Users/rdeits/locomotion/explorations/julia-systems/Acrobots/src/affine.jl:36.\n",
      "WARNING: Method definition *(Real, FixedSizeArrays.Mat{#M<:Any, 0, #T<:Any}) in module Acrobots at /Users/rdeits/locomotion/explorations/julia-systems/Acrobots/src/affine.jl:37 overwritten in module Acrobots at /Users/rdeits/locomotion/explorations/julia-systems/Acrobots/src/affine.jl:37.\n",
      "WARNING: Method definition +(FixedSizeArrays.Mat{0, 0, #T<:Any}, FixedSizeArrays.Mat{0, 0, #T<:Any}) in module Acrobots at /Users/rdeits/locomotion/explorations/julia-systems/Acrobots/src/affine.jl:46 overwritten in module Acrobots at /Users/rdeits/locomotion/explorations/julia-systems/Acrobots/src/affine.jl:46.\n",
      "WARNING: Method definition +(FixedSizeArrays.Mat{0, #N<:Any, #T<:Any}, FixedSizeArrays.Mat{0, #N<:Any, #T<:Any}) in module Acrobots at /Users/rdeits/locomotion/explorations/julia-systems/Acrobots/src/affine.jl:47 overwritten in module Acrobots at /Users/rdeits/locomotion/explorations/julia-systems/Acrobots/src/affine.jl:47.\n",
      "WARNING: Method definition +(FixedSizeArrays.Mat{#M<:Any, 0, #T<:Any}, FixedSizeArrays.Mat{#M<:Any, 0, #T<:Any}) in module Acrobots at /Users/rdeits/locomotion/explorations/julia-systems/Acrobots/src/affine.jl:48 overwritten in module Acrobots at /Users/rdeits/locomotion/explorations/julia-systems/Acrobots/src/affine.jl:48.\n"
     ]
    },
    {
     "data": {
      "text/plain": [
       "Acrobots"
      ]
     },
     "execution_count": 87,
     "metadata": {},
     "output_type": "execute_result"
    }
   ],
   "source": [
    "include(\"Acrobots/src/Acrobots.jl\")"
   ]
  },
  {
   "cell_type": "code",
   "execution_count": 116,
   "metadata": {
    "collapsed": false
   },
   "outputs": [
    {
     "data": {
      "text/plain": [
       "cost (generic function with 1 method)"
      ]
     },
     "execution_count": 116,
     "metadata": {},
     "output_type": "execute_result"
    }
   ],
   "source": []
  },
  {
   "cell_type": "code",
   "execution_count": 144,
   "metadata": {
    "collapsed": false
   },
   "outputs": [
    {
     "data": {
      "text/plain": [
       "unwrap (generic function with 1 method)"
      ]
     },
     "execution_count": 144,
     "metadata": {},
     "output_type": "execute_result"
    }
   ],
   "source": [
    "function unwrap{State}(state::State)\n",
    "    if state.theta1 < 0\n",
    "        state = State(state.theta1 + 2*pi, state.theta2, state.theta1dot, state.theta2dot)\n",
    "    end\n",
    "    if state.theta1 > 2*pi\n",
    "        state = State(state.theta1 - 2*pi, state.theta2, state.theta1dot, state.theta2dot)\n",
    "    end\n",
    "    state\n",
    "end\n",
    "    "
   ]
  },
  {
   "cell_type": "code",
   "execution_count": 147,
   "metadata": {
    "collapsed": false
   },
   "outputs": [
    {
     "name": "stdout",
     "output_type": "stream",
     "text": [
      "(elapsed / length(ts)) * 1.0e6 = 224.71509898020395"
     ]
    },
    {
     "data": {
      "text/plain": [
       "224.71509898020395"
      ]
     },
     "execution_count": 147,
     "metadata": {},
     "output_type": "execute_result"
    },
    {
     "name": "stdout",
     "output_type": "stream",
     "text": [
      "\n"
     ]
    }
   ],
   "source": [
    "xdes = Acrobots.AcrobotState{Float64}(pi, 0, 0, 0)\n",
    "x0 = Acrobots.AcrobotState{Float64}([0.2*(rand(2)-0.5); zeros(2)])\n",
    "state = x0\n",
    "robot = Acrobots.acrobot()\n",
    "input = Acrobots.AcrobotInput{Float64}(0)\n",
    "dt = 0.001\n",
    "vis = Acrobots.DrakeVisualizer(robot)\n",
    "ts = 0:dt:5\n",
    "Qf = diagm([10,10,1,1])\n",
    "Rf = eye(1)\n",
    "\n",
    "function cost(state::Acrobots.AcrobotState)\n",
    "    y = cos(state.theta1) + 2*cos(state.theta2 + state.theta1)\n",
    "    return -10*y + state.theta1dot^2 + state.theta2dot^2 \n",
    "end\n",
    "Q_generator = ForwardDiff.hessian(x -> cost(Acrobots.AcrobotState(x)), ForwardDiff.AllResults)\n",
    "\n",
    "function cost(input::Acrobots.AcrobotInput)\n",
    "    return input.tau^2\n",
    "end\n",
    "R_generator = ForwardDiff.hessian(x -> cost(Acrobots.AcrobotInput(x)), ForwardDiff.AllResults)\n",
    "\n",
    "const sys_tf = Acrobots.linearize(robot, 0, xdes, input)\n",
    "const P_tf = care(sys_tf.A, sys_tf.B, Qf, Rf)\n",
    "const p_tf = P_tf * x_des\n",
    "\n",
    "linearizations = typeof(linear_sys)[]\n",
    "Qs = Mat{4, 4, Float64}[]\n",
    "Rs = Mat{1, 1, Float64}[]\n",
    "qs = Vec{4, Float64}[]\n",
    "rs = Vec{1, Float64}[]\n",
    "Ps = Mat{4, 4, Float64}[]\n",
    "ps = Vec{4, Float64}[]\n",
    "\n",
    "controller_state = Acrobots.LQRState{Float64}(())\n",
    "linear_sys = Acrobots.linearize(robot, 0, x0, input)\n",
    "controller = Acrobots.lqr(linear_sys, Qf, Rf, x0)\n",
    "\n",
    "Profile.clear()\n",
    "elapsed = @elapsed for (i, t) in enumerate(ts)\n",
    "    output = Acrobots.output(robot, t, state, input)\n",
    "    input = Acrobots.output(controller, t, controller_state, output)\n",
    "    statedot = Acrobots.dynamics(robot, t, state, input)\n",
    "    state += statedot * dt\n",
    "    state = unwrap(state)\n",
    "    push!(linearizations, Acrobots.linearize(robot, t, state, input))\n",
    "    \n",
    "    Q, Q_results = Q_generator(convert(Vector, state))\n",
    "    push!(Qs, Q)\n",
    "    push!(qs, ForwardDiff.gradient(Q_results))\n",
    "    R, R_results = R_generator(convert(Vector, input))\n",
    "    push!(Rs, R)\n",
    "    push!(rs, ForwardDiff.gradient(R_results))\n",
    "    \n",
    "    if mod(i, 10) == 0\n",
    "        Acrobots.draw(vis, state)\n",
    "    end\n",
    "end\n",
    "@show elapsed / length(ts) * 1e6\n",
    "# ProfileView.view()"
   ]
  },
  {
   "cell_type": "code",
   "execution_count": 149,
   "metadata": {
    "collapsed": false
   },
   "outputs": [
    {
     "ename": "LoadError",
     "evalue": "LoadError: InterruptException:\nwhile loading In[149], in expression starting on line 2",
     "output_type": "error",
     "traceback": [
      "LoadError: InterruptException:\nwhile loading In[149], in expression starting on line 2",
      "",
      " in pycall at /Users/rdeits/.julia/v0.4/PyCall/src/PyCall.jl:366",
      " in call at /Users/rdeits/.julia/v0.4/PyCall/src/PyCall.jl:372",
      " in viewer_draw_msg at /Users/rdeits/locomotion/explorations/julia-systems/Acrobots/src/acrobot.jl:97",
      " in draw at /Users/rdeits/locomotion/explorations/julia-systems/Acrobots/src/drake_vis.jl:20",
      " [inlined code] from In[149]:43",
      " in anonymous at no file:0"
     ]
    }
   ],
   "source": [
    "alpha = 0.1\n",
    "for i = 1:10\n",
    "    lin = interpolate((ts,), linearizations, Gridded(Linear()));\n",
    "\n",
    "    Qs_interp = interpolate((ts,), Qs, Gridded(Linear()))\n",
    "    Rs_interp = interpolate((ts,), Rs, Gridded(Linear()))\n",
    "    controllers = Acrobots.tvlqr(lin, Acrobots.AcrobotState{Float64}(pi,0,0,0), Qs_interp, Rs_interp, diagm([10.,10,1,1]), eye(1));\n",
    "    \n",
    "    for j = 1:size(controllers.coefs, 1)\n",
    "        controllers.coefs[j] = typeof(controllers.coefs[j])(\n",
    "            controllers.coefs[j].A,\n",
    "            controllers.coefs[j].B,\n",
    "            controllers.coefs[j].C,\n",
    "            controllers.coefs[j].D,\n",
    "            controllers.coefs[j].x0,\n",
    "            controllers.coefs[j].u0,\n",
    "            controllers.coefs[j].xd0,\n",
    "            controllers.coefs[j].y0 * alpha + lin.coefs[j].u0 * (1 - alpha),\n",
    "        )\n",
    "    end\n",
    "        \n",
    "    state = x0\n",
    "    input = Acrobots.AcrobotInput{Float64}(0)\n",
    "    empty!(linearizations)\n",
    "    empty!(Qs)\n",
    "    empty!(Rs)\n",
    "\n",
    "    elapsed = @elapsed for (i, t) in enumerate(ts)\n",
    "        output = Acrobots.output(robot, t, state, input)\n",
    "        input = Acrobots.output(controllers[t], t, controller_state, output)\n",
    "        input = min(max(input, -5), 5)\n",
    "        statedot = Acrobots.dynamics(robot, t, state, input)\n",
    "        state += statedot * dt\n",
    "        state = unwrap(state)\n",
    "        push!(linearizations, Acrobots.linearize(robot, t, state, input))\n",
    "\n",
    "        Q = Q_generator(convert(Vector, state))\n",
    "        R = R_generator(convert(Vector, input))\n",
    "        push!(Qs, Q)\n",
    "        push!(Rs, R)\n",
    "\n",
    "#         if mod(i, 10) == 0\n",
    "            Acrobots.draw(vis, state)\n",
    "#         end\n",
    "    end\n",
    "end"
   ]
  },
  {
   "cell_type": "code",
   "execution_count": 11,
   "metadata": {
    "collapsed": false
   },
   "outputs": [],
   "source": [
    "robot = Acrobots.acrobot()\n",
    "state = Acrobots.AcrobotState{Float64}([1.; 2.;3.; 4.])\n",
    "input = Acrobots.AcrobotInput{Float64}(5.)\n",
    "statedot = Acrobots.dynamics(robot, 0, state, input)\n",
    "expected = Acrobots.AcrobotState{Float64}(3.0000, 4.0000, 21.3827, -18.4276)\n",
    "@assert isapprox(statedot, expected, 1e-4)\n",
    "\n",
    "linear_sys = Acrobots.linearize(robot, 0, state, input)\n",
    "@assert isapprox(statedot, Acrobots.dynamics(linear_sys, 0, state, input), 1e-9)\n",
    "\n",
    "vis = Acrobots.DrakeVisualizer(robot)\n",
    "state = Acrobots.AcrobotState{Float64}([pi/4;pi/4;0;0])\n",
    "Acrobots.draw(vis, state)"
   ]
  },
  {
   "cell_type": "code",
   "execution_count": null,
   "metadata": {
    "collapsed": false
   },
   "outputs": [],
   "source": []
  },
  {
   "cell_type": "code",
   "execution_count": null,
   "metadata": {
    "collapsed": true
   },
   "outputs": [],
   "source": []
  }
 ],
 "metadata": {
  "kernelspec": {
   "display_name": "Julia 0.4.5",
   "language": "julia",
   "name": "julia-0.4"
  },
  "language_info": {
   "file_extension": ".jl",
   "mimetype": "application/julia",
   "name": "julia",
   "version": "0.4.5"
  }
 },
 "nbformat": 4,
 "nbformat_minor": 0
}
