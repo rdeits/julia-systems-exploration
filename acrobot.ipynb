{
 "cells": [
  {
   "cell_type": "code",
   "execution_count": 1,
   "metadata": {
    "collapsed": true
   },
   "outputs": [],
   "source": [
    "using Interpolations"
   ]
  },
  {
   "cell_type": "code",
   "execution_count": 2,
   "metadata": {
    "collapsed": false,
    "scrolled": true
   },
   "outputs": [
    {
     "data": {
      "text/plain": [
       "Acrobots"
      ]
     },
     "execution_count": 2,
     "metadata": {},
     "output_type": "execute_result"
    }
   ],
   "source": [
    "include(\"Acrobots/src/Acrobots.jl\")"
   ]
  },
  {
   "cell_type": "code",
   "execution_count": 3,
   "metadata": {
    "collapsed": false
   },
   "outputs": [
    {
     "name": "stdout",
     "output_type": "stream",
     "text": [
      "(elapsed / length(ts)) * 1.0e6 = 629.6950179964007"
     ]
    },
    {
     "data": {
      "text/plain": [
       "629.6950179964007"
      ]
     },
     "execution_count": 3,
     "metadata": {},
     "output_type": "execute_result"
    }
   ],
   "source": [
    "using ProfileView\n",
    "robot = Acrobots.acrobot()\n",
    "xbar = Acrobots.AcrobotState{Float64}([pi; 0; 0; 0])\n",
    "ybar = Acrobots.AcrobotOutput(xbar)\n",
    "state = Acrobots.AcrobotState{Float64}([[pi; 0] + 0.2*(rand(2)-0.5); zeros(2)])\n",
    "x0 = state\n",
    "robot = Acrobots.acrobot()\n",
    "input = Acrobots.AcrobotInput{Float64}(0)\n",
    "dt = 0.001\n",
    "vis = Acrobots.DrakeVisualizer(robot)\n",
    "ts = 0:dt:5\n",
    "\n",
    "\n",
    "controller_state = Acrobots.LQRState{Float64}(())\n",
    "linear_sys = Acrobots.linearize(robot, 0, xbar, input)\n",
    "controller = Acrobots.lqr(linear_sys, diagm([10,10,1,1]), eye(1))\n",
    "linearizations = typeof(linear_sys)[]\n",
    "\n",
    "Profile.clear()\n",
    "elapsed = @elapsed @profile for (i, t) in enumerate(ts)\n",
    "    output = Acrobots.output(robot, t, state, input)\n",
    "    input = Acrobots.output(controller, t, controller_state, output)\n",
    "    statedot = Acrobots.dynamics(robot, t, state, input)\n",
    "    state += statedot * dt\n",
    "    push!(linearizations, Acrobots.linearize(robot, t, state, input))\n",
    "    \n",
    "    Acrobots.draw(vis, state)\n",
    "end\n",
    "@show elapsed / length(ts) * 1e6\n",
    "# ProfileView.view()"
   ]
  },
  {
   "cell_type": "code",
   "execution_count": 4,
   "metadata": {
    "collapsed": false
   },
   "outputs": [
    {
     "name": "stdout",
     "output_type": "stream",
     "text": [
      "\n"
     ]
    }
   ],
   "source": [
    "lin = interpolate((ts,), linearizations, Gridded(Linear()));"
   ]
  },
  {
   "cell_type": "code",
   "execution_count": 5,
   "metadata": {
    "collapsed": false
   },
   "outputs": [],
   "source": [
    "controllers = Acrobots.tvlqr(lin, diagm([10.,10,1,1]), eye(1), diagm([10.,10,1,1]), eye(1));"
   ]
  },
  {
   "cell_type": "code",
   "execution_count": 13,
   "metadata": {
    "collapsed": false
   },
   "outputs": [
    {
     "data": {
      "text/plain": [
       "1.942822757"
      ]
     },
     "execution_count": 13,
     "metadata": {},
     "output_type": "execute_result"
    }
   ],
   "source": [
    "state = x0 + 0.05 * Acrobots.AcrobotState(rand(4))\n",
    "input = Acrobots.AcrobotInput{Float64}(0)\n",
    "\n",
    "elapsed = @elapsed for (i, t) in enumerate(ts)\n",
    "    output = Acrobots.output(robot, t, state, input)\n",
    "    input = Acrobots.output(controllers[t], t, controller_state, output)\n",
    "    statedot = Acrobots.dynamics(robot, t, state, input)\n",
    "    state += statedot * dt\n",
    "    \n",
    "    Acrobots.draw(vis, state)\n",
    "end"
   ]
  },
  {
   "cell_type": "code",
   "execution_count": 7,
   "metadata": {
    "collapsed": false
   },
   "outputs": [],
   "source": [
    "robot = Acrobots.acrobot()\n",
    "state = Acrobots.AcrobotState{Float64}([1.; 2.;3.; 4.])\n",
    "input = Acrobots.AcrobotInput{Float64}(5.)\n",
    "statedot = Acrobots.dynamics(robot, 0, state, input)\n",
    "expected = Acrobots.AcrobotState{Float64}(3.0000, 4.0000, 21.3827, -18.4276)\n",
    "@assert isapprox(statedot, expected, 1e-4)\n",
    "\n",
    "linear_sys = Acrobots.linearize(robot, 0, state, input)\n",
    "@assert isapprox(statedot, Acrobots.dynamics(linear_sys, 0, state, input), 1e-9)\n",
    "\n",
    "vis = Acrobots.DrakeVisualizer(robot)\n",
    "state = Acrobots.AcrobotState{Float64}([pi/4;pi/4;0;0])\n",
    "Acrobots.draw(vis, state)"
   ]
  },
  {
   "cell_type": "code",
   "execution_count": 34,
   "metadata": {
    "collapsed": false
   },
   "outputs": [],
   "source": []
  },
  {
   "cell_type": "code",
   "execution_count": null,
   "metadata": {
    "collapsed": true
   },
   "outputs": [],
   "source": []
  }
 ],
 "metadata": {
  "kernelspec": {
   "display_name": "Julia 0.4.5",
   "language": "julia",
   "name": "julia-0.4"
  },
  "language_info": {
   "file_extension": ".jl",
   "mimetype": "application/julia",
   "name": "julia",
   "version": "0.4.5"
  }
 },
 "nbformat": 4,
 "nbformat_minor": 0
}
