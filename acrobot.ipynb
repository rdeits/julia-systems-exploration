{
 "cells": [
  {
   "cell_type": "code",
   "execution_count": 69,
   "metadata": {
    "collapsed": false
   },
   "outputs": [
    {
     "name": "stderr",
     "output_type": "stream",
     "text": [
      "WARNING: replacing module Acrobots\n",
      "WARNING: Method definition *(FixedSizeArrays.Mat{#M<:Any, #N<:Any, #T<:Any}, FixedSizeArrays.FixedVectorNoTuple{#N<:Any, #T<:Any}) in module Acrobots at /Users/rdeits/locomotion/explorations/julia-systems/Acrobots/src/linear.jl:8 overwritten in module Acrobots at /Users/rdeits/locomotion/explorations/julia-systems/Acrobots/src/linear.jl:8.\n"
     ]
    },
    {
     "data": {
      "text/plain": [
       "Acrobots"
      ]
     },
     "execution_count": 69,
     "metadata": {},
     "output_type": "execute_result"
    }
   ],
   "source": [
    "include(\"Acrobots/src/Acrobots.jl\")"
   ]
  },
  {
   "cell_type": "code",
   "execution_count": 70,
   "metadata": {
    "collapsed": false
   },
   "outputs": [
    {
     "data": {
      "text/plain": [
       "Acrobots.AcrobotInput{Float64}(0.0)"
      ]
     },
     "execution_count": 70,
     "metadata": {},
     "output_type": "execute_result"
    }
   ],
   "source": [
    "robot = Acrobots.acrobot()\n",
    "state = Acrobots.AcrobotState{Float64}(0.)\n",
    "input = Acrobots.AcrobotInput{Float64}(0.)"
   ]
  },
  {
   "cell_type": "code",
   "execution_count": 71,
   "metadata": {
    "collapsed": false
   },
   "outputs": [],
   "source": [
    "vis = Acrobots.DrakeVisualizer(robot)\n",
    "state = Acrobots.AcrobotState{Float64}([pi/4;pi/4;0;0])\n",
    "Acrobots.draw(vis, state)"
   ]
  },
  {
   "cell_type": "code",
   "execution_count": 72,
   "metadata": {
    "collapsed": false
   },
   "outputs": [
    {
     "data": {
      "text/plain": [
       "Acrobots.LinearSystem{Float64,Acrobots.AcrobotState{T},Acrobots.AcrobotInput{T},Acrobots.AcrobotOutput{T},4,1,4}(FixedSizeArrays.Mat{4,4,Float64}(\n",
       "    0.0 0.0 1.0 0.0\n",
       "    0.0 0.0 0.0 1.0\n",
       "    -10.871914666045658 -1.1897211413655526 -0.10448664063666142 0.160037927958154\n",
       "    16.6520684892354 -1.0605862390369154 0.160037927958154 -0.32031154006812\n",
       ")\n",
       ",FixedSizeArrays.Mat{4,1,Float64}(\n",
       "    0.0\n",
       "    0.0\n",
       "    -1.60037927958154\n",
       "    3.2031154006812\n",
       ")\n",
       ",FixedSizeArrays.Mat{4,4,Float64}(\n",
       "    1.0 0.0 0.0 0.0\n",
       "    0.0 1.0 0.0 0.0\n",
       "    0.0 0.0 1.0 0.0\n",
       "    0.0 0.0 0.0 1.0\n",
       ")\n",
       ",FixedSizeArrays.Mat{4,1,Float64}(\n",
       "    0.0\n",
       "    0.0\n",
       "    0.0\n",
       "    0.0\n",
       ")\n",
       ")"
      ]
     },
     "execution_count": 72,
     "metadata": {},
     "output_type": "execute_result"
    }
   ],
   "source": [
    "linear_sys = Acrobots.linearize(robot, 0, state, input)"
   ]
  },
  {
   "cell_type": "code",
   "execution_count": 73,
   "metadata": {
    "collapsed": false
   },
   "outputs": [
    {
     "data": {
      "text/plain": [
       "Acrobots.AcrobotState{Float64}(0.0,0.0,-9.473186610709663,12.245521523949805)"
      ]
     },
     "execution_count": 73,
     "metadata": {},
     "output_type": "execute_result"
    }
   ],
   "source": [
    "Acrobots.dynamics(linear_sys, 0, state, input)"
   ]
  },
  {
   "cell_type": "code",
   "execution_count": 74,
   "metadata": {
    "collapsed": false
   },
   "outputs": [
    {
     "data": {
      "text/plain": [
       "Acrobots.AcrobotState{Float64}(3.0,4.0,21.382653016334,-18.427570843977477)"
      ]
     },
     "execution_count": 74,
     "metadata": {},
     "output_type": "execute_result"
    }
   ],
   "source": [
    "Acrobots.dynamics(robot, 0, Acrobots.AcrobotState{Float64}([1.; 2.;3.; 4.]), Acrobots.AcrobotInput{Float64}(5.))"
   ]
  },
  {
   "cell_type": "code",
   "execution_count": 75,
   "metadata": {
    "collapsed": false
   },
   "outputs": [
    {
     "data": {
      "text/plain": [
       "Acrobots.AcrobotOutput{Float64}(1.0,2.0,3.0,4.0)"
      ]
     },
     "execution_count": 75,
     "metadata": {},
     "output_type": "execute_result"
    }
   ],
   "source": [
    "Acrobots.output(robot, 0, Acrobots.AcrobotState{Float64}([1.; 2.; 3.; 4.]), Acrobots.AcrobotInput{Float64}(5.))"
   ]
  },
  {
   "cell_type": "code",
   "execution_count": 104,
   "metadata": {
    "collapsed": false
   },
   "outputs": [
    {
     "name": "stdout",
     "output_type": "stream",
     "text": [
      "sys.A = FixedSizeArrays.Mat{4,4,Float64}(\n",
      "    0.0 0.0 1.0 0.0\n",
      "    0.0 0.0 0.0 1.0\n",
      "    12.629158094942365 -12.692621200947098 -0.17208140873863043 0.3014659265872247\n",
      "    -14.748825835500533 29.61188526180959 0.30146592658722476 -0.6033200067279952\n",
      ")\n",
      "\n",
      "sys.B = FixedSizeArrays.Mat{4,1,Float64}(\n",
      "    0.0\n",
      "    0.0\n",
      "    -3.014659265872247\n",
      "    6.033200067279952\n",
      ")\n",
      "\n",
      "K = [-278.44223125457574 -112.29125984465645 -119.72457376720195 -56.828240171727884]\n",
      "elapsed / length(ts) = 3.182161427714457e-5"
     ]
    },
    {
     "data": {
      "text/plain": [
       "3.182161427714457e-5"
      ]
     },
     "execution_count": 104,
     "metadata": {},
     "output_type": "execute_result"
    },
    {
     "name": "stdout",
     "output_type": "stream",
     "text": [
      "\n"
     ]
    }
   ],
   "source": [
    "using ProfileView\n",
    "\n",
    "\n",
    "xbar = Acrobots.AcrobotState{Float64}([pi; 0; 0; 0])\n",
    "state = Acrobots.AcrobotState{Float64}([[pi; 0] + 0.1*(rand(2)-0.5); zeros(2)])\n",
    "robot = Acrobots.acrobot()\n",
    "input = Acrobots.AcrobotInput{Float64}(0)\n",
    "dt = 0.001\n",
    "vis = Acrobots.DrakeVisualizer(robot)\n",
    "ts = 0:dt:5\n",
    "# for (i, t) in enumerate(ts[1:100])\n",
    "#     statedot = Acrobots.dynamics(robot, t, state, input)\n",
    "#     state += statedot * dt\n",
    "#     Acrobots.draw(vis, state)\n",
    "# end\n",
    "# Profile.clear()\n",
    "\n",
    "lqr_state = Acrobots.LQRState{Float64}(0)\n",
    "\n",
    "controller = Acrobots.lqr(Acrobots.linearize(robot, 0, xbar, input), diagm([10,10,1,1]), eye(1))\n",
    "\n",
    "elapsed = @elapsed for (i, t) in enumerate(ts)\n",
    "    output = Acrobots.output(robot, t, state, input)\n",
    "    \n",
    "    controller_input = output - Acrobots.AcrobotOutput(xbar)\n",
    "    input = Acrobots.output(controller, t, lqr_state, controller_input)\n",
    "#     @show input\n",
    "    statedot = Acrobots.dynamics(robot, t, state, input)\n",
    "#     linear_system = Acrobots.linearize(robot, t, state, input)\n",
    "    \n",
    "#     perturbation = 1e-4 * Acrobots.AcrobotState{Float64}(1)\n",
    "#     perturbed_state = state + perturbation\n",
    "    \n",
    "    \n",
    "#     @assert isapprox(convert(Vector, Acrobots.dynamics(robot, t, perturbed_state, input)), \n",
    "#     convert(Vector, statedot + Acrobots.dynamics(linear_system, t, perturbation, Acrobots.AcrobotInput{Float64}(0))), atol=1e-6)\n",
    "    state += statedot * dt\n",
    "#     Acrobots.draw(vis, state)\n",
    "end\n",
    "@show elapsed / length(ts)\n",
    "# ProfileView.view()"
   ]
  },
  {
   "cell_type": "code",
   "execution_count": 103,
   "metadata": {
    "collapsed": false
   },
   "outputs": [
    {
     "data": {
      "text/plain": [
       "3.1415971178171347"
      ]
     },
     "execution_count": 103,
     "metadata": {},
     "output_type": "execute_result"
    }
   ],
   "source": [
    "state[1]"
   ]
  },
  {
   "cell_type": "code",
   "execution_count": 89,
   "metadata": {
    "collapsed": false
   },
   "outputs": [
    {
     "data": {
      "text/plain": [
       "Acrobots.AcrobotState{Float64}(-1.4846311691945301e-5,0.00014627881462250664,4.213753438449123e-5,-0.0003171115919183452)"
      ]
     },
     "execution_count": 89,
     "metadata": {},
     "output_type": "execute_result"
    }
   ],
   "source": [
    "Acrobots.dynamics(robot, 0, state, input)"
   ]
  },
  {
   "cell_type": "code",
   "execution_count": 93,
   "metadata": {
    "collapsed": false
   },
   "outputs": [
    {
     "data": {
      "text/plain": [
       "Acrobots.LinearSystem{Float64,Acrobots.AcrobotState{T},Acrobots.AcrobotInput{T},Acrobots.AcrobotOutput{T},4,1,4}(FixedSizeArrays.Mat{4,4,Float64}(\n",
       "    0.0 0.0 1.0 0.0\n",
       "    0.0 0.0 0.0 1.0\n",
       "    12.629158074900438 -12.692621010459607 -0.1720814353029311 0.30146589446488986\n",
       "    -14.748825793583556 29.611884890456764 0.3014659713521204 -0.6033199499514414\n",
       ")\n",
       ",FixedSizeArrays.Mat{4,1,Float64}(\n",
       "    0.0\n",
       "    0.0\n",
       "    -3.014659245726268\n",
       "    6.033200026965746\n",
       ")\n",
       ",FixedSizeArrays.Mat{4,4,Float64}(\n",
       "    1.0 0.0 0.0 0.0\n",
       "    0.0 1.0 0.0 0.0\n",
       "    0.0 0.0 1.0 0.0\n",
       "    0.0 0.0 0.0 1.0\n",
       ")\n",
       ",FixedSizeArrays.Mat{4,1,Float64}(\n",
       "    0.0\n",
       "    0.0\n",
       "    0.0\n",
       "    0.0\n",
       ")\n",
       ")"
      ]
     },
     "execution_count": 93,
     "metadata": {},
     "output_type": "execute_result"
    }
   ],
   "source": [
    "linear_system = Acrobots.linearize(robot, 0, state, input)"
   ]
  },
  {
   "cell_type": "code",
   "execution_count": 96,
   "metadata": {
    "collapsed": false
   },
   "outputs": [
    {
     "data": {
      "text/plain": [
       "Acrobots.AcrobotState{Float64}(-1.4846311691945301e-5,0.00014627881462250664,39.67571236665847,-46.33511987377605)"
      ]
     },
     "execution_count": 96,
     "metadata": {},
     "output_type": "execute_result"
    }
   ],
   "source": [
    "Acrobots.dynamics(linear_system, 0, state, input)"
   ]
  },
  {
   "cell_type": "code",
   "execution_count": 98,
   "metadata": {
    "collapsed": false
   },
   "outputs": [
    {
     "name": "stdout",
     "output_type": "stream",
     "text": [
      "sys.A = FixedSizeArrays.Mat{4,4,Float64}(\n",
      "    0.0 0.0 1.0 0.0\n",
      "    0.0 0.0 0.0 1.0\n",
      "    12.629158074900438 -12.692621010459607 -0.1720814353029311 0.30146589446488986\n",
      "    -14.748825793583556 29.611884890456764 0.3014659713521204 -0.6033199499514414\n",
      ")\n"
     ]
    },
    {
     "data": {
      "text/plain": [
       "Acrobots.LinearSystem{Float64,Acrobots.LQRState{T},Acrobots.AcrobotOutput{T},Acrobots.AcrobotInput{T},1,4,1}(FixedSizeArrays.Mat{1,1,Float64}(\n",
       "    0.0\n",
       ")\n",
       ",FixedSizeArrays.Mat{1,4,Float64}(\n",
       "    0.0 0.0 0.0 0.0\n",
       ")\n",
       ",FixedSizeArrays.Mat{1,1,Float64}(\n",
       "    0.0\n",
       ")\n",
       ",FixedSizeArrays.Mat{1,4,Float64}(\n",
       "    258.1408467357178 103.35406651933772 110.92107884456436 52.48899399050151\n",
       ")\n",
       ")"
      ]
     },
     "execution_count": 98,
     "metadata": {},
     "output_type": "execute_result"
    },
    {
     "name": "stdout",
     "output_type": "stream",
     "text": [
      "\n",
      "sys.B = FixedSizeArrays.Mat{4,1,Float64}(\n",
      "    0.0\n",
      "    0.0\n",
      "    -3.014659245726268\n",
      "    6.033200026965746\n",
      ")\n",
      "\n",
      "K = [-258.1408467357178 -103.35406651933772 -110.92107884456436 -52.48899399050151]\n"
     ]
    }
   ],
   "source": [
    "controller = Acrobots.lqr(linear_system, eye(4), eye(1))"
   ]
  },
  {
   "cell_type": "code",
   "execution_count": 101,
   "metadata": {
    "collapsed": false
   },
   "outputs": [
    {
     "data": {
      "text/plain": [
       "Acrobots.AcrobotInput{Float64}(810.9736879094952)"
      ]
     },
     "execution_count": 101,
     "metadata": {},
     "output_type": "execute_result"
    }
   ],
   "source": [
    "Acrobots.output(controller, 0, lqr_state, Acrobots.output(robot, 0, state, input))"
   ]
  },
  {
   "cell_type": "code",
   "execution_count": null,
   "metadata": {
    "collapsed": true
   },
   "outputs": [],
   "source": []
  }
 ],
 "metadata": {
  "kernelspec": {
   "display_name": "Julia 0.4.5",
   "language": "julia",
   "name": "julia-0.4"
  },
  "language_info": {
   "file_extension": ".jl",
   "mimetype": "application/julia",
   "name": "julia",
   "version": "0.4.5"
  }
 },
 "nbformat": 4,
 "nbformat_minor": 0
}
