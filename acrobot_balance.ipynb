{
 "cells": [
  {
   "cell_type": "code",
   "execution_count": 1,
   "metadata": {
    "collapsed": false
   },
   "outputs": [
    {
     "data": {
      "text/plain": [
       "5-element Array{ByteString,1}:\n",
       " \"/Applications/Julia-0.4.5.app/Contents/Resources/julia/local/share/julia/site/v0.4\"\n",
       " \"/Applications/Julia-0.4.5.app/Contents/Resources/julia/share/julia/site/v0.4\"      \n",
       " \"/Users/rdeits/6.338/hw2\"                                                           \n",
       " \"/Users/rdeits/6.338/julia-mindstorms-mapping\"                                      \n",
       " \".\"                                                                                 "
      ]
     },
     "execution_count": 1,
     "metadata": {},
     "output_type": "execute_result"
    }
   ],
   "source": [
    "push!(LOAD_PATH, \".\")"
   ]
  },
  {
   "cell_type": "code",
   "execution_count": 2,
   "metadata": {
    "collapsed": true
   },
   "outputs": [],
   "source": [
    "using Acrobots"
   ]
  },
  {
   "cell_type": "code",
   "execution_count": 12,
   "metadata": {
    "collapsed": false
   },
   "outputs": [],
   "source": [
    "xdes = Acrobots.AcrobotState{Float64}(pi, 0, 0, 0)\n",
    "x0 = Acrobots.AcrobotState{Float64}([[pi; 0] + 0.1*(rand(2)-0.5); zeros(2)]) \n",
    "state = x0\n",
    "robot = Acrobots.acrobot()\n",
    "vis = Acrobots.DrakeVisualizer(robot)\n",
    "dt = 0.001\n",
    "ts = 0:dt:5\n",
    "\n",
    "input = zero(Acrobots.AcrobotInput{Float64})\n",
    "\n",
    "linear_sys = Acrobots.linearize(robot, 0, xdes, input)\n",
    "Qf = diagm([1.,1,1,1])\n",
    "Rf = eye(1)\n",
    "controller = Acrobots.lqr(linear_sys, Qf, Rf, xdes)\n",
    "controller_state = zero(Acrobots.LQRState{Float64})\n",
    "@assert length(controller_state) == 0 # LQR controller has no state\n",
    "\n",
    "for (i, t) in enumerate(ts)\n",
    "    output = Acrobots.output(robot, t, state, input)\n",
    "    input = Acrobots.output(controller, t, controller_state, output)\n",
    "    statedot = Acrobots.dynamics(robot, t, state, input)\n",
    "    state += statedot * dt\n",
    "#     if mod(i, 10) == 0\n",
    "        Acrobots.draw(vis, state)\n",
    "#     end\n",
    "end"
   ]
  },
  {
   "cell_type": "code",
   "execution_count": null,
   "metadata": {
    "collapsed": true
   },
   "outputs": [],
   "source": []
  }
 ],
 "metadata": {
  "kernelspec": {
   "display_name": "Julia 0.4.5",
   "language": "julia",
   "name": "julia-0.4"
  },
  "language_info": {
   "file_extension": ".jl",
   "mimetype": "application/julia",
   "name": "julia",
   "version": "0.4.5"
  }
 },
 "nbformat": 4,
 "nbformat_minor": 0
}
