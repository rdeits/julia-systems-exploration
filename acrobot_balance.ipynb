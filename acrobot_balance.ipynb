{
 "cells": [
  {
   "cell_type": "markdown",
   "metadata": {},
   "source": [
    "# Acrobot LQR Balancing\n",
    "\n",
    "This notebook demonstrates stabilization of the Acrobot model with LQR. \n",
    "\n",
    "*Note:* This will send draw commands to the Drake Visualizer, but you'll need to open it yourself from a separate terminal with `drake-visualizer`. "
   ]
  },
  {
   "cell_type": "code",
   "execution_count": 1,
   "metadata": {
    "collapsed": false
   },
   "outputs": [
    {
     "data": {
      "text/plain": [
       "5-element Array{ByteString,1}:\n",
       " \"/Applications/Julia-0.4.5.app/Contents/Resources/julia/local/share/julia/site/v0.4\"\n",
       " \"/Applications/Julia-0.4.5.app/Contents/Resources/julia/share/julia/site/v0.4\"      \n",
       " \"/Users/rdeits/6.338/hw2\"                                                           \n",
       " \"/Users/rdeits/6.338/julia-mindstorms-mapping\"                                      \n",
       " \".\"                                                                                 "
      ]
     },
     "execution_count": 1,
     "metadata": {},
     "output_type": "execute_result"
    }
   ],
   "source": [
    "# Add the current directory to the package search path, so we can \"using Acrobots\" later\n",
    "push!(LOAD_PATH, \".\")"
   ]
  },
  {
   "cell_type": "code",
   "execution_count": 2,
   "metadata": {
    "collapsed": true
   },
   "outputs": [],
   "source": [
    "using Acrobots"
   ]
  },
  {
   "cell_type": "code",
   "execution_count": 3,
   "metadata": {
    "collapsed": false
   },
   "outputs": [
    {
     "data": {
      "text/plain": [
       "Acrobots.DrakeVisualizer(Acrobots.Acrobot{Float64}((Acrobots.AcrobotLink{Float64}(1.0,1.0,0.1,0.5,0.083),Acrobots.AcrobotLink{Float64}(2.0,1.0,0.1,1.0,0.33)),9.81),PyLCM.LCM(PyObject <LCM object at 0x31a2be690>))"
      ]
     },
     "execution_count": 3,
     "metadata": {},
     "output_type": "execute_result"
    }
   ],
   "source": [
    "# Construct the robot model and visualizer\n",
    "robot = Acrobots.acrobot()\n",
    "vis = Acrobots.DrakeVisualizer(robot)"
   ]
  },
  {
   "cell_type": "code",
   "execution_count": 4,
   "metadata": {
    "collapsed": false
   },
   "outputs": [
    {
     "data": {
      "text/plain": [
       "Acrobots.AcrobotState{Float64}(3.141592653589793,0.0,0.0,0.0)"
      ]
     },
     "execution_count": 4,
     "metadata": {},
     "output_type": "execute_result"
    }
   ],
   "source": [
    "# Choose the initial state and desired (vertical) state\n",
    "x0 = Acrobots.AcrobotState{Float64}([[pi; 0] + 0.1*(rand(2)-0.5); zeros(2)]) \n",
    "xdes = Acrobots.AcrobotState{Float64}(pi, 0, 0, 0)"
   ]
  },
  {
   "cell_type": "code",
   "execution_count": 7,
   "metadata": {
    "collapsed": false
   },
   "outputs": [],
   "source": [
    "# Linearize the system around the desired pose and \n",
    "# construct the LQR controller for that linear system\n",
    "input = zero(Acrobots.AcrobotInput{Float64})\n",
    "linear_sys = Acrobots.linearize(robot, 0, xdes, input)\n",
    "Qf = diagm([1.,1,1,1])\n",
    "Rf = eye(1)\n",
    "controller = Acrobots.lqr(linear_sys, Qf, Rf, xdes)\n",
    "controller_state = zero(Acrobots.LQRState{Float64})\n",
    "@assert length(controller_state) == 0 # LQR controller has no state"
   ]
  },
  {
   "cell_type": "code",
   "execution_count": null,
   "metadata": {
    "collapsed": false
   },
   "outputs": [],
   "source": [
    "# Simulate the system and controller for 5 seconds. The simulation will \n",
    "# run as fast as possible, but it's slowed down substantially by the call\n",
    "# to Acrobots.draw() at every tick. Remove that line to see how fast it \n",
    "# can go. \n",
    "dt = 0.001\n",
    "ts = 0:dt:5\n",
    "\n",
    "state = x0\n",
    "for (i, t) in enumerate(ts)\n",
    "    output = Acrobots.output(robot, t, state, input)\n",
    "    input = Acrobots.output(controller, t, controller_state, output)\n",
    "    statedot = Acrobots.dynamics(robot, t, state, input)\n",
    "    state += statedot * dt\n",
    "    \n",
    "    Acrobots.draw(vis, state)\n",
    "end"
   ]
  },
  {
   "cell_type": "code",
   "execution_count": null,
   "metadata": {
    "collapsed": true
   },
   "outputs": [],
   "source": []
  }
 ],
 "metadata": {
  "kernelspec": {
   "display_name": "Julia 0.4.5",
   "language": "julia",
   "name": "julia-0.4"
  },
  "language_info": {
   "file_extension": ".jl",
   "mimetype": "application/julia",
   "name": "julia",
   "version": "0.4.5"
  }
 },
 "nbformat": 4,
 "nbformat_minor": 0
}
