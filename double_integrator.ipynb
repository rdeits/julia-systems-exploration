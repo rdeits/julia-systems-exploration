{
 "cells": [
  {
   "cell_type": "code",
   "execution_count": 69,
   "metadata": {
    "collapsed": false
   },
   "outputs": [],
   "source": [
    "using Interpolations\n",
    "using ProfileView\n",
    "using ForwardDiff\n",
    "using PyPlot\n",
    "using FixedSizeArrays"
   ]
  },
  {
   "cell_type": "code",
   "execution_count": 70,
   "metadata": {
    "collapsed": false
   },
   "outputs": [
    {
     "name": "stderr",
     "output_type": "stream",
     "text": [
      "WARNING: replacing module Acrobots\n",
      "WARNING: Method definition isapprox(#FSA<:FixedSizeArrays.FixedArray, #A<:Union{Array, FixedSizeArrays.FixedArray}, Real) in module Acrobots at /home/rdeits/locomotion/explorations/julia-systems-exploration/Acrobots/src/system_types.jl:28 overwritten in module Acrobots at /home/rdeits/locomotion/explorations/julia-systems-exploration/Acrobots/src/system_types.jl:28.\n",
      "WARNING: Method definition call(Type{FixedSizeArrays.Mat{0, 0, #T<:Any}}, Number) in module Acrobots at /home/rdeits/locomotion/explorations/julia-systems-exploration/Acrobots/src/affine.jl:30 overwritten in module Acrobots at /home/rdeits/locomotion/explorations/julia-systems-exploration/Acrobots/src/affine.jl:30.\n",
      "WARNING: Method definition call(Type{FixedSizeArrays.Mat{0, #N<:Any, #T<:Any}}) in module Acrobots at /home/rdeits/locomotion/explorations/julia-systems-exploration/Acrobots/src/affine.jl:31 overwritten in module Acrobots at /home/rdeits/locomotion/explorations/julia-systems-exploration/Acrobots/src/affine.jl:31.\n",
      "WARNING: Method definition call(Type{FixedSizeArrays.Mat{0, #N<:Any, #T<:Any}}, Number) in module Acrobots at /home/rdeits/locomotion/explorations/julia-systems-exploration/Acrobots/src/affine.jl:32 overwritten in module Acrobots at /home/rdeits/locomotion/explorations/julia-systems-exploration/Acrobots/src/affine.jl:32.\n",
      "WARNING: Method definition call(Type{FixedSizeArrays.Mat{#M<:Any, 0, #T<:Any}}, Number) in module Acrobots at /home/rdeits/locomotion/explorations/julia-systems-exploration/Acrobots/src/affine.jl:33 overwritten in module Acrobots at /home/rdeits/locomotion/explorations/julia-systems-exploration/Acrobots/src/affine.jl:33.\n",
      "WARNING: Method definition *(Real, FixedSizeArrays.Mat{0, 0, #T<:Any}) in module Acrobots at /home/rdeits/locomotion/explorations/julia-systems-exploration/Acrobots/src/affine.jl:45 overwritten in module Acrobots at /home/rdeits/locomotion/explorations/julia-systems-exploration/Acrobots/src/affine.jl:45.\n",
      "WARNING: Method definition *(Real, FixedSizeArrays.Mat{0, #N<:Any, #T<:Any}) in module Acrobots at /home/rdeits/locomotion/explorations/julia-systems-exploration/Acrobots/src/affine.jl:46 overwritten in module Acrobots at /home/rdeits/locomotion/explorations/julia-systems-exploration/Acrobots/src/affine.jl:46.\n",
      "WARNING: Method definition *(Real, FixedSizeArrays.Mat{#M<:Any, 0, #T<:Any}) in module Acrobots at /home/rdeits/locomotion/explorations/julia-systems-exploration/Acrobots/src/affine.jl:47 overwritten in module Acrobots at /home/rdeits/locomotion/explorations/julia-systems-exploration/Acrobots/src/affine.jl:47.\n",
      "WARNING: Method definition +(FixedSizeArrays.Mat{0, 0, #T<:Any}, FixedSizeArrays.Mat{0, 0, #T<:Any}) in module Acrobots at /home/rdeits/locomotion/explorations/julia-systems-exploration/Acrobots/src/affine.jl:56 overwritten in module Acrobots at /home/rdeits/locomotion/explorations/julia-systems-exploration/Acrobots/src/affine.jl:56.\n",
      "WARNING: Method definition +(FixedSizeArrays.Mat{0, #N<:Any, #T<:Any}, FixedSizeArrays.Mat{0, #N<:Any, #T<:Any}) in module Acrobots at /home/rdeits/locomotion/explorations/julia-systems-exploration/Acrobots/src/affine.jl:57 overwritten in module Acrobots at /home/rdeits/locomotion/explorations/julia-systems-exploration/Acrobots/src/affine.jl:57.\n",
      "WARNING: Method definition +(FixedSizeArrays.Mat{#M<:Any, 0, #T<:Any}, FixedSizeArrays.Mat{#M<:Any, 0, #T<:Any}) in module Acrobots at /home/rdeits/locomotion/explorations/julia-systems-exploration/Acrobots/src/affine.jl:58 overwritten in module Acrobots at /home/rdeits/locomotion/explorations/julia-systems-exploration/Acrobots/src/affine.jl:58.\n"
     ]
    },
    {
     "data": {
      "text/plain": [
       "Acrobots"
      ]
     },
     "execution_count": 70,
     "metadata": {},
     "output_type": "execute_result"
    }
   ],
   "source": [
    "include(\"Acrobots/src/Acrobots.jl\")"
   ]
  },
  {
   "cell_type": "code",
   "execution_count": 316,
   "metadata": {
    "collapsed": false
   },
   "outputs": [
    {
     "name": "stdout",
     "output_type": "stream",
     "text": [
      "(elapsed / length(ts)) * 1.0e6 = 598.9343808095952"
     ]
    },
    {
     "data": {
      "text/plain": [
       "598.9343808095952"
      ]
     },
     "execution_count": 316,
     "metadata": {},
     "output_type": "execute_result"
    }
   ],
   "source": [
    "xdes = Acrobots.DoubleIntegratorState{Float64}(1, 0)\n",
    "x0 = Acrobots.DoubleIntegratorState{Float64}([0; 0])\n",
    "state = x0\n",
    "robot = Acrobots.double_integrator()\n",
    "input = Acrobots.DoubleIntegratorInput{Float64}(0)\n",
    "dt = 0.001\n",
    "vis = Acrobots.DrakeVisualizer(robot)\n",
    "ts = 0:dt:2\n",
    "Qf = diagm([1.,1])\n",
    "Rf = 1e-6*eye(1)\n",
    "Qt = diagm([0, 0.])\n",
    "\n",
    "function cost(state::Acrobots.DoubleIntegratorState)\n",
    "    x = convert(Vector, state - xdes)\n",
    "    return 0.5*(x' * Qt * x)[1]\n",
    "end\n",
    "Q_generator = ForwardDiff.hessian(x -> cost(Acrobots.DoubleIntegratorState(x)), ForwardDiff.AllResults)\n",
    "\n",
    "function cost(input::Acrobots.DoubleIntegratorInput)\n",
    "    return Rf[1,1] * 0.5*input.u^2\n",
    "end\n",
    "R_generator = ForwardDiff.hessian(x -> cost(Acrobots.DoubleIntegratorInput(x)), ForwardDiff.AllResults)\n",
    "\n",
    "sys_tf = Acrobots.linearize(robot, 0, xdes, input)\n",
    "# S_final = Mat(Acrobots.care(convert(Matrix, sys_tf.A), convert(Matrix, sys_tf.B), Qf, Rf))\n",
    "S_final = Mat(Qf)\n",
    "\n",
    "Qs = Mat{2, 2, Float64}[]\n",
    "Rs = Mat{1, 1, Float64}[]\n",
    "qs = Vec{2, Float64}[]\n",
    "rs = Vec{1, Float64}[]\n",
    "\n",
    "controller_state = Acrobots.LQRState{Float64}(())\n",
    "linear_sys = Acrobots.linearize(robot, 0, x0, input)\n",
    "controller = Acrobots.lqr(linear_sys, Qf, Rf, x0)\n",
    "linearizations = typeof(linear_sys)[]\n",
    "\n",
    "Profile.clear()\n",
    "elapsed = @elapsed for (i, t) in enumerate(ts)\n",
    "    output = Acrobots.output(robot, t, state, input)\n",
    "    input = Acrobots.output(controller, t, controller_state, output)\n",
    "    statedot = Acrobots.dynamics(robot, t, state, input)\n",
    "    state += statedot * dt\n",
    "    push!(linearizations, Acrobots.linearize(robot, t, state, input))\n",
    "    \n",
    "    Q, Q_results = Q_generator(convert(Vector, state))\n",
    "    push!(Qs, Q)\n",
    "    push!(qs, ForwardDiff.gradient(Q_results))\n",
    "    R, R_results = R_generator(convert(Vector, input))\n",
    "    push!(Rs, R)\n",
    "    push!(rs, ForwardDiff.gradient(R_results))\n",
    "    \n",
    "#     if mod(i, 10) == 0\n",
    "        Acrobots.draw(vis, state)\n",
    "#     end\n",
    "end\n",
    "@show elapsed / length(ts) * 1e6\n",
    "# ProfileView.view()"
   ]
  },
  {
   "cell_type": "code",
   "execution_count": 317,
   "metadata": {
    "collapsed": false
   },
   "outputs": [
    {
     "data": {
      "image/png": "[encoded data removed]",
      "text/plain": [
       "PyPlot.Figure(PyObject <matplotlib.figure.Figure object at 0x7fa4868dde50>)"
      ]
     },
     "metadata": {},
     "output_type": "display_data"
    },
    {
     "data": {
      "text/plain": [
       "3-element Array{Any,1}:\n",
       " PyObject <matplotlib.lines.Line2D object at 0x7fa486568450>\n",
       " PyObject <matplotlib.lines.Line2D object at 0x7fa486568750>\n",
       " PyObject <matplotlib.lines.Line2D object at 0x7fa48637a6d0>"
      ]
     },
     "execution_count": 317,
     "metadata": {},
     "output_type": "execute_result"
    },
    {
     "name": "stdout",
     "output_type": "stream",
     "text": [
      "\n"
     ]
    }
   ],
   "source": [
    "plot(ts, [lin.x0[1] for lin in linearizations], ts, [lin.x0[2] for lin in linearizations],\n",
    "ts, [lin.u0[1] for lin in linearizations])"
   ]
  },
  {
   "cell_type": "code",
   "execution_count": 318,
   "metadata": {
    "collapsed": false
   },
   "outputs": [
    {
     "data": {
      "text/plain": [
       "Acrobots.DoubleIntegratorState{Float64}(0.0,0.0)"
      ]
     },
     "execution_count": 318,
     "metadata": {},
     "output_type": "execute_result"
    }
   ],
   "source": [
    "linearizations[end].x0"
   ]
  },
  {
   "cell_type": "code",
   "execution_count": 319,
   "metadata": {
    "collapsed": false
   },
   "outputs": [
    {
     "name": "stdout",
     "output_type": "stream",
     "text": [
      "  1.151489 seconds (857.88 k allocations: 37.195 MB, 2.07% gc time)\n",
      "  1.157672 seconds (859.30 k allocations: 37.305 MB, 2.00% gc time)\n",
      "  1.142643 seconds (859.76 k allocations: 37.357 MB, 1.98% gc time)\n",
      "  1.150471 seconds (859.78 k allocations: 37.357 MB, 1.96% gc time)\n",
      "  1.250119 seconds (855.75 k allocations: 37.118 MB, 0.96% gc time)\n",
      "  1.136100 seconds (857.15 k allocations: 37.317 MB, 1.03% gc time)\n",
      "  1.146395 seconds (856.66 k allocations: 37.309 MB, 0.99% gc time)\n",
      "  1.157893 seconds (858.46 k allocations: 37.204 MB, 2.04% gc time)\n",
      "  1.148705 seconds (859.15 k allocations: 37.303 MB, 2.03% gc time)\n",
      "  "
     ]
    }
   ],
   "source": [
    "alpha = 1\n",
    "\n",
    "for i = 1:10\n",
    "\n",
    "    Ps = Array{Mat{2, 2, Float64}}(length(ts))\n",
    "    ps = Array{Vec{2, Float64}}(length(ts))\n",
    "    Ks = Array{Mat{1, 2, Float64}}(length(ts))\n",
    "    ls = Array{Vec{1, Float64}}(length(ts))\n",
    "    As = [Mat(eye(2)) + dt * sys.A for sys in linearizations]\n",
    "    Bs = [dt * sys.B for sys in linearizations]\n",
    "\n",
    "    Ps[end] = S_final\n",
    "    ps[end] = S_final * (linearizations[end].x0 - xdes)\n",
    "\n",
    "    for j = (length(ts)-1):-1:1\n",
    "        g = rs[j] + Bs[j]' * ps[j+1]\n",
    "        G = Bs[j]' * Ps[j+1] * As[j]\n",
    "        H = Rs[j] + Bs[j]' * Ps[j+1] * Bs[j]\n",
    "        Hi = inv(H)\n",
    "        Ks[j] = -Hi * G\n",
    "        ls[j] = -Hi * g\n",
    "\n",
    "        Ps[j] = Qs[j] + As[j]' * Ps[j+1] * As[j] + Ks[j]' * H * Ks[j] + Ks[j]' * G + G' * Ks[j]\n",
    "        ps[j] = qs[j] + As[j]' * ps[j+1] + Ks[j]' * H * ls[j] + Ks[j]' * g + G' * ls[j]\n",
    "    end\n",
    "    Ks[end] = 0\n",
    "    ls[end] = 0\n",
    "\n",
    "    controllers = [Acrobots.AffineSystem(\n",
    "        Mat{0,0,Float64}(),\n",
    "        Mat{0,2,Float64}(),\n",
    "        Mat{1,0,Float64}(),\n",
    "        Mat{1,2,Float64}(Ks[j]),\n",
    "        Acrobots.LQRState{Float64}(),\n",
    "        Acrobots.DoubleIntegratorOutput{Float64}(linearizations[j].x0),\n",
    "#         Acrobots.DoubleIntegratorOutput{Float64}(xdes),\n",
    "        Acrobots.LQRState{Float64}(),\n",
    "        Acrobots.DoubleIntegratorInput{Float64}(linearizations[j].u0) + Acrobots.DoubleIntegratorInput{Float64}(alpha * ls[j])) \n",
    "        for j in 1:length(ts)]\n",
    "\n",
    "\n",
    "    state = x0\n",
    "    input = Acrobots.AcrobotInput{Float64}(0)\n",
    "    empty!(linearizations)\n",
    "    empty!(Qs)\n",
    "    empty!(Rs)\n",
    "    empty!(qs)\n",
    "    empty!(rs)\n",
    "\n",
    "    @time for (i, t) in enumerate(ts)\n",
    "        output = Acrobots.output(robot, t, state, input)\n",
    "        input = Acrobots.output(controllers[i], t, controller_state, output)\n",
    "        statedot = Acrobots.dynamics(robot, t, state, input)\n",
    "        state += statedot * dt\n",
    "        push!(linearizations, Acrobots.linearize(robot, t, state, input))\n",
    "\n",
    "        Q, Q_results = Q_generator(convert(Vector, state))\n",
    "        push!(Qs, Q)\n",
    "        push!(qs, ForwardDiff.gradient(Q_results))\n",
    "        R, R_results = R_generator(convert(Vector, input))\n",
    "        push!(Rs, R)\n",
    "        push!(rs, ForwardDiff.gradient(R_results))\n",
    "\n",
    "#         if mod(i, 10) == 0\n",
    "            Acrobots.draw(vis, state)\n",
    "#         end\n",
    "    end\n",
    "    \n",
    "end"
   ]
  },
  {
   "cell_type": "code",
   "execution_count": 321,
   "metadata": {
    "collapsed": false
   },
   "outputs": [
    {
     "data": {
      "image/png": "[encoded data removed]",
      "text/plain": [
       "PyPlot.Figure(PyObject <matplotlib.figure.Figure object at 0x7fa4865e2190>)"
      ]
     },
     "metadata": {},
     "output_type": "display_data"
    },
    {
     "data": {
      "text/plain": [
       "3-element Array{Any,1}:\n",
       " PyObject <matplotlib.lines.Line2D object at 0x7fa48626e210>\n",
       " PyObject <matplotlib.lines.Line2D object at 0x7fa4863580d0>\n",
       " PyObject <matplotlib.lines.Line2D object at 0x7fa486294650>"
      ]
     },
     "execution_count": 321,
     "metadata": {},
     "output_type": "execute_result"
    }
   ],
   "source": [
    "plot(ts, [lin.x0[1] for lin in linearizations], ts, [lin.x0[2] for lin in linearizations],\n",
    "ts, [lin.u0[1] for lin in linearizations])"
   ]
  },
  {
   "cell_type": "code",
   "execution_count": null,
   "metadata": {
    "collapsed": true
   },
   "outputs": [],
   "source": []
  }
 ],
 "metadata": {
  "kernelspec": {
   "display_name": "Julia 0.4.5",
   "language": "julia",
   "name": "julia-0.4"
  },
  "language_info": {
   "file_extension": ".jl",
   "mimetype": "application/julia",
   "name": "julia",
   "version": "0.4.5"
  }
 },
 "nbformat": 4,
 "nbformat_minor": 0
}
