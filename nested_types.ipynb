{
 "cells": [
  {
   "cell_type": "code",
   "execution_count": 24,
   "metadata": {
    "collapsed": false
   },
   "outputs": [
    {
     "name": "stderr",
     "output_type": "stream",
     "text": [
      "WARNING: replacing module Nested\n"
     ]
    },
    {
     "data": {
      "text/plain": [
       "Nested"
      ]
     },
     "execution_count": 24,
     "metadata": {},
     "output_type": "execute_result"
    }
   ],
   "source": [
    "module Nested\n",
    "\n",
    "type State{T}\n",
    "    x::T\n",
    "end\n",
    "\n",
    "type Input{T}\n",
    "    x::T\n",
    "end\n",
    "\n",
    "abstract Manipulator{StateType, InputType}\n",
    "\n",
    "type Acrobot <: Manipulator{State, Input}\n",
    "    mass\n",
    "end\n",
    "\n",
    "function dynamics{StateType, InputType}(robot::Manipulator{StateType, InputType}, state::StateType, input::InputType)\n",
    "#     xdump(StateType)\n",
    "    state\n",
    "end\n",
    "\n",
    "end\n"
   ]
  },
  {
   "cell_type": "code",
   "execution_count": 27,
   "metadata": {
    "collapsed": false
   },
   "outputs": [
    {
     "data": {
      "text/plain": [
       "Nested.State{Float64}(1.0)"
      ]
     },
     "execution_count": 27,
     "metadata": {},
     "output_type": "execute_result"
    }
   ],
   "source": [
    "robot = Nested.Acrobot(1.0)\n",
    "state = Nested.State(1.0)\n",
    "input = Nested.Input(1.0)\n",
    "Nested.dynamics(robot, state, input)"
   ]
  },
  {
   "cell_type": "code",
   "execution_count": 28,
   "metadata": {
    "collapsed": false
   },
   "outputs": [
    {
     "data": {
      "text/html": [
       "1 method for generic function <b>dynamics</b>:<ul><li> dynamics<i>{StateType,InputType}</i>(robot::<b>Nested.Manipulator{StateType,InputType}</b>, state::<b>StateType</b>, input::<b>InputType</b>) at In[24]:19</ul>"
      ],
      "text/plain": [
       "# 1 method for generic function \"dynamics\":\n",
       "dynamics{StateType,InputType}(robot::Nested.Manipulator{StateType,InputType}, state::StateType, input::InputType) at In[24]:19"
      ]
     },
     "execution_count": 28,
     "metadata": {},
     "output_type": "execute_result"
    }
   ],
   "source": [
    "methods(Nested.dynamics)"
   ]
  },
  {
   "cell_type": "code",
   "execution_count": 23,
   "metadata": {
    "collapsed": false
   },
   "outputs": [
    {
     "data": {
      "text/plain": [
       "Nested.Manipulator{Nested.State{T}}"
      ]
     },
     "execution_count": 23,
     "metadata": {},
     "output_type": "execute_result"
    }
   ],
   "source": [
    "T = super(typeof(robot))"
   ]
  },
  {
   "cell_type": "code",
   "execution_count": 16,
   "metadata": {
    "collapsed": false
   },
   "outputs": [
    {
     "data": {
      "text/plain": [
       "Nested.State{T}"
      ]
     },
     "execution_count": 16,
     "metadata": {},
     "output_type": "execute_result"
    }
   ],
   "source": [
    "StateType = T.parameters[1]"
   ]
  },
  {
   "cell_type": "code",
   "execution_count": 17,
   "metadata": {
    "collapsed": false
   },
   "outputs": [
    {
     "data": {
      "text/plain": [
       "Nested.State{Int64}(1)"
      ]
     },
     "execution_count": 17,
     "metadata": {},
     "output_type": "execute_result"
    }
   ],
   "source": [
    "StateType(1)"
   ]
  },
  {
   "cell_type": "code",
   "execution_count": 15,
   "metadata": {
    "collapsed": false
   },
   "outputs": [
    {
     "name": "stdout",
     "output_type": "stream",
     "text": [
      "TypeVar \n",
      "  name: Symbol T\n",
      "  lb: Union{}\n",
      "  ub: Any::DataType  <: Any\n",
      "  bound: Bool false\n"
     ]
    }
   ],
   "source": [
    "xdump(T.parameters[1].parameters[1])"
   ]
  },
  {
   "cell_type": "code",
   "execution_count": null,
   "metadata": {
    "collapsed": true
   },
   "outputs": [],
   "source": []
  }
 ],
 "metadata": {
  "kernelspec": {
   "display_name": "Julia 0.4.5",
   "language": "julia",
   "name": "julia-0.4"
  },
  "language_info": {
   "file_extension": ".jl",
   "mimetype": "application/julia",
   "name": "julia",
   "version": "0.4.5"
  }
 },
 "nbformat": 4,
 "nbformat_minor": 0
}
