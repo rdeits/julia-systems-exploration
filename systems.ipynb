{
 "cells": [
  {
   "cell_type": "code",
   "execution_count": 66,
   "metadata": {
    "collapsed": false
   },
   "outputs": [
    {
     "data": {
      "text/plain": [
       "dynamics! (generic function with 1 method)"
      ]
     },
     "execution_count": 66,
     "metadata": {},
     "output_type": "execute_result"
    }
   ],
   "source": [
    "workspace()\n",
    "import Base: getindex, setindex!\n",
    "\n",
    "abstract Frame\n",
    "\n",
    "function getindex(frame::Frame, name::Symbol)\n",
    "    frame[getCoordinateIndex(frame, name)]\n",
    "end\n",
    "\n",
    "function getindex(frame::Frame, index::Integer)\n",
    "    frame.data[index]\n",
    "end\n",
    "\n",
    "function setindex!(frame::Frame, value, name::Symbol)\n",
    "    frame[getCoordinateIndex(frame, name)] = value\n",
    "end\n",
    "\n",
    "function setindex!(frame::Frame, value, index::Integer)\n",
    "    frame.data[index] = value\n",
    "end\n",
    "\n",
    "type VectorFrame <: Frame\n",
    "    data::Vector\n",
    "    coordinate_names::Vector{Symbol}\n",
    "    coordinate_map::Dict{Symbol, Integer}\n",
    "    \n",
    "    VectorFrame(data::Vector, coordinate_names::Vector{Symbol}) = new(data, coordinate_names, Dict{Symbol,Integer}(zip(coordinate_names, 1:length(coordinate_names))))\n",
    "end\n",
    "\n",
    "function getCoordinateIndex(frame::VectorFrame, name::Symbol)\n",
    "    frame.coordinate_map[name]\n",
    "#     find(name .== frame.coordinate_names)[1]\n",
    "end\n",
    "\n",
    "abstract System\n",
    "\n",
    "type DoubleIntegrator <: System\n",
    "end\n",
    "\n",
    "type DoubleIntegratorState <: Frame\n",
    "    z\n",
    "    zdot\n",
    "end\n",
    "\n",
    "function getindex(frame::DoubleIntegratorState, name::Symbol)\n",
    "    getfield(frame, name)\n",
    "end\n",
    "\n",
    "function setindex!(frame::DoubleIntegratorState, value, name::Symbol)\n",
    "    setfield!(frame, name, value)\n",
    "end\n",
    "\n",
    "function dynamics!(xdot::Frame, sys::DoubleIntegrator, t::Real, x::Frame, u::Frame)\n",
    "#     xdot = VectorFrame(x.data, x.coordinate_names)\n",
    "    xdot[:z] = x[:zdot]\n",
    "    xdot[:zdot] = u[:z]\n",
    "end\n",
    "    \n"
   ]
  },
  {
   "cell_type": "code",
   "execution_count": 71,
   "metadata": {
    "collapsed": false
   },
   "outputs": [
    {
     "name": "stdout",
     "output_type": "stream",
     "text": [
      "  "
     ]
    },
    {
     "data": {
      "text/plain": [
       "VectorFrame([1.0,2.0],[:z,:zdot],Dict{Symbol,Integer}(:z=>1,:zdot=>2))"
      ]
     },
     "execution_count": 71,
     "metadata": {},
     "output_type": "execute_result"
    },
    {
     "name": "stdout",
     "output_type": "stream",
     "text": [
      "0.000293 seconds (2.00 k allocations: 31.250 KB)\n"
     ]
    }
   ],
   "source": [
    "sys = DoubleIntegrator()\n",
    "x = VectorFrame([0.0, 1.0], [:z, :zdot])\n",
    "u = VectorFrame([2.0], [:z])\n",
    "\n",
    "xdot = VectorFrame(copy(x.data), x.coordinate_names)\n",
    "dynamics!(xdot, sys, 0, x, u)\n",
    "@time for j = 1:1e3; dynamics!(xdot, sys, 0, x, u); end\n",
    "xdot"
   ]
  },
  {
   "cell_type": "code",
   "execution_count": 72,
   "metadata": {
    "collapsed": false
   },
   "outputs": [
    {
     "name": "stdout",
     "output_type": "stream",
     "text": [
      "  "
     ]
    },
    {
     "data": {
      "text/plain": [
       "DoubleIntegratorState(1.0,2.0)"
      ]
     },
     "execution_count": 72,
     "metadata": {},
     "output_type": "execute_result"
    },
    {
     "name": "stdout",
     "output_type": "stream",
     "text": [
      "0.000108 seconds (1000 allocations: 15.625 KB)\n"
     ]
    }
   ],
   "source": [
    "sys = DoubleIntegrator()\n",
    "x = DoubleIntegratorState(0.0, 1.0)\n",
    "u = VectorFrame([2.0], [:z])\n",
    "\n",
    "xdot = DoubleIntegratorState(0.0, 0.0)\n",
    "dynamics!(xdot, sys, 0, x, u)\n",
    "@time for j = 1:1e3; dynamics!(xdot, sys, 0, x, u); end\n",
    "xdot"
   ]
  },
  {
   "cell_type": "code",
   "execution_count": null,
   "metadata": {
    "collapsed": true
   },
   "outputs": [],
   "source": []
  }
 ],
 "metadata": {
  "kernelspec": {
   "display_name": "Julia 0.4.1",
   "language": "julia",
   "name": "julia-0.4"
  },
  "language_info": {
   "file_extension": ".jl",
   "mimetype": "application/julia",
   "name": "julia",
   "version": "0.4.1"
  }
 },
 "nbformat": 4,
 "nbformat_minor": 0
}
