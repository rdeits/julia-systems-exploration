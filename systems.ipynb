{
 "cells": [
  {
   "cell_type": "code",
   "execution_count": 1,
   "metadata": {
    "collapsed": false,
    "scrolled": true
   },
   "outputs": [
    {
     "name": "stderr",
     "output_type": "stream",
     "text": [
      "WARNING: Method definition remotecall_fetch(Function, Main.Base.LocalProcess, Any...) in module Compat at /Users/rdeits/.julia/Compat/src/Compat.jl:697 overwritten in module Compat at /Users/rdeits/.julia/Compat/src/Compat.jl:697.\n",
      "WARNING: Method definition remotecall_fetch(Function, Main.Base.Worker, Any...) in module Compat at /Users/rdeits/.julia/Compat/src/Compat.jl:698 overwritten in module Compat at /Users/rdeits/.julia/Compat/src/Compat.jl:698.\n",
      "WARNING: Method definition remotecall_fetch(Function, Integer, Any...) in module Compat at /Users/rdeits/.julia/Compat/src/Compat.jl:699 overwritten in module Compat at /Users/rdeits/.julia/Compat/src/Compat.jl:699.\n",
      "WARNING: Method definition remotecall(Function, Main.Base.LocalProcess, Any...) in module Compat at /Users/rdeits/.julia/Compat/src/Compat.jl:697 overwritten in module Compat at /Users/rdeits/.julia/Compat/src/Compat.jl:697.\n",
      "WARNING: Method definition remotecall(Function, Main.Base.Worker, Any...) in module Compat at /Users/rdeits/.julia/Compat/src/Compat.jl:698 overwritten in module Compat at /Users/rdeits/.julia/Compat/src/Compat.jl:698.\n",
      "WARNING: Method definition remotecall(Function, Integer, Any...) in module Compat at /Users/rdeits/.julia/Compat/src/Compat.jl:699 overwritten in module Compat at /Users/rdeits/.julia/Compat/src/Compat.jl:699.\n",
      "WARNING: Method definition remotecall_wait(Function, Main.Base.LocalProcess, Any...) in module Compat at /Users/rdeits/.julia/Compat/src/Compat.jl:697 overwritten in module Compat at /Users/rdeits/.julia/Compat/src/Compat.jl:697.\n",
      "WARNING: Method definition remotecall_wait(Function, Main.Base.Worker, Any...) in module Compat at /Users/rdeits/.julia/Compat/src/Compat.jl:698 overwritten in module Compat at /Users/rdeits/.julia/Compat/src/Compat.jl:698.\n",
      "WARNING: Method definition remotecall_wait(Function, Integer, Any...) in module Compat at /Users/rdeits/.julia/Compat/src/Compat.jl:699 overwritten in module Compat at /Users/rdeits/.julia/Compat/src/Compat.jl:699.\n",
      "WARNING: Method definition remote_do(Function, Main.Base.LocalProcess, Any...) in module Compat at /Users/rdeits/.julia/Compat/src/Compat.jl:697 overwritten in module Compat at /Users/rdeits/.julia/Compat/src/Compat.jl:697.\n",
      "WARNING: Method definition remote_do(Function, Main.Base.Worker, Any...) in module Compat at /Users/rdeits/.julia/Compat/src/Compat.jl:698 overwritten in module Compat at /Users/rdeits/.julia/Compat/src/Compat.jl:698.\n",
      "WARNING: Method definition remote_do(Function, Integer, Any...) in module Compat at /Users/rdeits/.julia/Compat/src/Compat.jl:699 overwritten in module Compat at /Users/rdeits/.julia/Compat/src/Compat.jl:699.\n"
     ]
    },
    {
     "data": {
      "text/plain": [
       "input_frame (generic function with 2 methods)"
      ]
     },
     "execution_count": 1,
     "metadata": {},
     "output_type": "execute_result"
    }
   ],
   "source": [
    "workspace()\n",
    "import Base: copy, convert\n",
    "import ForwardDiff\n",
    "\n",
    "macro make_frame(typename, parent, fields...)\n",
    "    ex = Expr(:type, true)\n",
    "    push!(ex.args, Expr(:<:))\n",
    "    push!(ex.args[2].args, Expr(:curly, esc(typename), :T))\n",
    "    push!(ex.args[2].args, parent)\n",
    "    push!(ex.args, Expr(:block))\n",
    "    for field in fields\n",
    "        push!(ex.args[3].args, :($(field)::T))\n",
    "    end\n",
    "    return ex\n",
    "end\n",
    "\n",
    "\n",
    "abstract Frame\n",
    "function copy{T <: Frame}(frame::T)\n",
    "    T([getfield(frame, x) for x in fieldnames(frame)]...)\n",
    "end\n",
    "\n",
    "function toVector(frame::Frame)\n",
    "    [getfield(frame, x) for x in fieldnames(frame)]\n",
    "end\n",
    "convert{T,N}(T2::Type{Array{T,N}}, f::Frame) = convert(T2, toVector(f))\n",
    "\n",
    "abstract System\n",
    "\n",
    "num_fields(T::Type) = length(fieldnames(T))\n",
    "num_states(sys::System) = num_fields(state_frame(sys))\n",
    "num_inputs(sys::System) = num_fields(input_frame(sys))\n",
    "\n",
    "@make_frame DoubleIntegratorState Frame z zdot\n",
    "@make_frame DoubleIntegratorInput Frame z\n",
    "\n",
    "type DoubleIntegrator <: System\n",
    "end\n",
    "state_frame(sys::DoubleIntegrator) = DoubleIntegratorState\n",
    "input_frame(sys::DoubleIntegrator) = DoubleIntegratorInput\n",
    "\n",
    "function dynamics(sys::DoubleIntegrator, t::Number, x::DoubleIntegratorState, u::DoubleIntegratorInput)\n",
    "    xdot = DoubleIntegratorState(x.zdot, u.z)\n",
    "end\n",
    "\n",
    "type LinearSystem <: System\n",
    "    A\n",
    "    B\n",
    "end\n",
    "\n",
    "num_states(sys::LinearSystem) = size(sys.A, 2)\n",
    "num_inputs(sys::LinearSystem) = size(sys.B, 2)\n",
    "dynamics(sys::LinearSystem, t::Number, x::Frame, u::Frame) = typeof(x)((sys.A * toVector(x) + sys.B * toVector(u))...)\n",
    "\n",
    "function vectorized_dynamics(sys::System, t_x_u::Vector)\n",
    "    xdot = dynamics(sys, t_x_u[1], \n",
    "    state_frame(sys)(sub(t_x_u, 1 + (1:num_states(sys)))...), \n",
    "    input_frame(sys)(sub(t_x_u, 1 + num_states(sys) + (1:num_inputs(sys)))...))\n",
    "    xdot\n",
    "end\n",
    "\n",
    "type LinearSystemFactory\n",
    "    sys::System\n",
    "    jac::Function\n",
    "end\n",
    "LinearSystemFactory(sys::System) = LinearSystemFactory(sys, ForwardDiff.jacobian(t_x_u::Vector -> vectorized_dynamics(sys, t_x_u)))\n",
    "\n",
    "function linearize(factory::LinearSystemFactory, t0::Number, x0::Frame, u0::Frame)\n",
    "    t_x_u = [t0; toVector(x0); toVector(u0)]\n",
    "    jac0 = factory.jac(t_x_u)\n",
    "    A = jac0[1:end, 1+(1:num_states(factory.sys))]\n",
    "    B = jac0[1:end, 1+num_states(factory.sys)+(1:num_inputs(factory.sys))]\n",
    "    LinearSystem(A, B)\n",
    "end\n",
    "\n",
    "function linearize(sys::System, t0::Number, x0::Frame, u0::Frame)\n",
    "    linearize(LinearSystemFactory(sys), t0, x0, u0)\n",
    "end\n",
    "\n",
    "@make_frame PendulumState Frame theta thetadot\n",
    "@make_frame PendulumInput Frame tau\n",
    "\n",
    "type Pendulum <: System\n",
    "end\n",
    "\n",
    "function dynamics(sys::Pendulum, t::Number, x::PendulumState, u::PendulumInput)\n",
    "    PendulumState(x.thetadot, u.tau - sin(x.theta) - x.thetadot)\n",
    "end\n",
    "state_frame(sys::Pendulum) = PendulumState\n",
    "input_frame(sys::Pendulum) = PendulumInput\n"
   ]
  },
  {
   "cell_type": "code",
   "execution_count": 19,
   "metadata": {
    "collapsed": false
   },
   "outputs": [
    {
     "name": "stdout",
     "output_type": "stream",
     "text": [
      "  0.069615 seconds (249.00 k allocations: 12.772 MB)\n",
      "  0.000022 seconds (80 allocations: 4.469 KB)\n",
      "  0.026973 seconds (108.06 k allocations: 5.481 MB)\n"
     ]
    }
   ],
   "source": [
    "pend = Pendulum()\n",
    "@time for j = 1:1000; p_linearized = linearize(pend, 0, PendulumState(0.,0.), PendulumInput(0.)); end\n",
    "@time factory = LinearSystemFactory(pend)\n",
    "@time for j = 1:1000; p_linearized_2 = linearize(factory, 0, PendulumState(0.,0.), PendulumInput(0.)); end"
   ]
  },
  {
   "cell_type": "code",
   "execution_count": 3,
   "metadata": {
    "collapsed": false
   },
   "outputs": [
    {
     "name": "stdout",
     "output_type": "stream",
     "text": [
      "\n",
      "dynamics(pend,0,PendulumState(0.01,0.01),PendulumInput(0.0)) = PendulumState{Float64}(0.01,-0.019999833334166665)"
     ]
    },
    {
     "ename": "LoadError",
     "evalue": "LoadError: UndefVarError: p_linearized not defined\nwhile loading In[3], in expression starting on line 127",
     "output_type": "error",
     "traceback": [
      "LoadError: UndefVarError: p_linearized not defined\nwhile loading In[3], in expression starting on line 127",
      ""
     ]
    }
   ],
   "source": [
    "@show dynamics(pend, 0, PendulumState(0.01, 0.01), PendulumInput(0.))\n",
    "@show dynamics(p_linearized, 0, PendulumState(0.01, 0.01), PendulumInput(0.))"
   ]
  },
  {
   "cell_type": "code",
   "execution_count": null,
   "metadata": {
    "collapsed": true
   },
   "outputs": [],
   "source": []
  },
  {
   "cell_type": "code",
   "execution_count": 4,
   "metadata": {
    "collapsed": false
   },
   "outputs": [
    {
     "name": "stdout",
     "output_type": "stream",
     "text": [
      "\n",
      "  "
     ]
    },
    {
     "data": {
      "text/plain": [
       "DoubleIntegratorState{Float64}(1.0,2.0)"
      ]
     },
     "execution_count": 4,
     "metadata": {},
     "output_type": "execute_result"
    }
   ],
   "source": [
    "sys = DoubleIntegrator()\n",
    "x = DoubleIntegratorState(0.0, 1.0)\n",
    "u = DoubleIntegratorInput(2.0)\n",
    "\n",
    "xdot = copy(x)\n",
    "@time for j = 1:1e3; xdot = dynamics(sys, 0, x, u); end\n",
    "xdot"
   ]
  },
  {
   "cell_type": "code",
   "execution_count": 5,
   "metadata": {
    "collapsed": false
   },
   "outputs": [],
   "source": [
    "import ForwardDiff"
   ]
  },
  {
   "cell_type": "code",
   "execution_count": 6,
   "metadata": {
    "collapsed": false,
    "scrolled": true
   },
   "outputs": [
    {
     "data": {
      "text/plain": [
       "j (generic function with 1 method)"
      ]
     },
     "execution_count": 6,
     "metadata": {},
     "output_type": "execute_result"
    },
    {
     "name": "stdout",
     "output_type": "stream",
     "text": [
      "0.002275 seconds (2.39 k allocations: 92.251 KB)\n"
     ]
    }
   ],
   "source": [
    "sys = DoubleIntegrator()\n",
    "function do_dynamics{T}(t_x_u::Vector{T})\n",
    "    t = t_x_u[1]\n",
    "    x = DoubleIntegratorState(t_x_u[2:3]...)\n",
    "    u = DoubleIntegratorInput(t_x_u[4])\n",
    "    y = toVector(dynamics(sys, t, x, u))\n",
    "end\n",
    "    \n",
    "do_dynamics([1, 2, 3, 4])\n",
    "\n",
    "g = ForwardDiff.jacobian(do_dynamics)"
   ]
  },
  {
   "cell_type": "code",
   "execution_count": 7,
   "metadata": {
    "collapsed": false
   },
   "outputs": [
    {
     "data": {
      "text/plain": [
       "2x4 Array{Float64,2}:\n",
       " 0.0  0.0  1.0  0.0\n",
       " 0.0  0.0  0.0  1.0"
      ]
     },
     "execution_count": 7,
     "metadata": {},
     "output_type": "execute_result"
    }
   ],
   "source": [
    "g(rand(4))"
   ]
  },
  {
   "cell_type": "code",
   "execution_count": 8,
   "metadata": {
    "collapsed": false
   },
   "outputs": [
    {
     "name": "stdout",
     "output_type": "stream",
     "text": [
      "  0.311009 seconds (293.72 k allocations: 13.862 MB, 1.67% gc time)\n"
     ]
    }
   ],
   "source": [
    "@time for j = 1:1000; g([1,2,3,4]); end"
   ]
  },
  {
   "cell_type": "code",
   "execution_count": null,
   "metadata": {
    "collapsed": true
   },
   "outputs": [],
   "source": []
  }
 ],
 "metadata": {
  "kernelspec": {
   "display_name": "Julia 0.4.1",
   "language": "julia",
   "name": "julia-0.4"
  },
  "language_info": {
   "file_extension": ".jl",
   "mimetype": "application/julia",
   "name": "julia",
   "version": "0.4.1"
  }
 },
 "nbformat": 4,
 "nbformat_minor": 0
}
