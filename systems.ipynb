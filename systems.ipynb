{
 "cells": [
  {
   "cell_type": "code",
   "execution_count": 32,
   "metadata": {
    "collapsed": false,
    "scrolled": true
   },
   "outputs": [
    {
     "name": "stderr",
     "output_type": "stream",
     "text": [
      "WARNING: replacing module Systems\n"
     ]
    },
    {
     "data": {
      "text/plain": [
       "Systems"
      ]
     },
     "execution_count": 32,
     "metadata": {},
     "output_type": "execute_result"
    }
   ],
   "source": [
    "module Systems\n",
    "\n",
    "import Base: copy, convert\n",
    "import ForwardDiff\n",
    "import Flatten\n",
    "\n",
    "macro make_frame(typename, parent, fields...)\n",
    "    ex = Expr(:type, true)\n",
    "    push!(ex.args, Expr(:<:))\n",
    "    push!(ex.args[2].args, Expr(:curly, esc(typename), :T))\n",
    "    push!(ex.args[2].args, parent)\n",
    "    push!(ex.args, Expr(:block))\n",
    "    for field in fields\n",
    "        push!(ex.args[3].args, :($(field)::T))\n",
    "    end\n",
    "    return ex\n",
    "end\n",
    "\n",
    "\n",
    "abstract Frame\n",
    "function copy{T <: Frame}(frame::T)\n",
    "    T([getfield(frame, x) for x in fieldnames(frame)]...)\n",
    "end\n",
    "\n",
    "convert{T,N}(T2::Type{Array{T,N}}, f::Frame) = convert(T2, Flatten.to_vector(f))\n",
    "\n",
    "abstract System\n",
    "\n",
    "num_fields(T::Type) = length(fieldnames(T))\n",
    "num_states(sys::System) = num_fields(state_frame(sys))\n",
    "num_inputs(sys::System) = num_fields(input_frame(sys))\n",
    "\n",
    "@make_frame DoubleIntegratorState Frame z zdot\n",
    "@make_frame DoubleIntegratorInput Frame z\n",
    "\n",
    "type DoubleIntegrator <: System\n",
    "end\n",
    "state_frame(sys::DoubleIntegrator) = DoubleIntegratorState\n",
    "input_frame(sys::DoubleIntegrator) = DoubleIntegratorInput\n",
    "\n",
    "dynamics{T}(sys::DoubleIntegrator, \n",
    "    t::Number, \n",
    "    x::DoubleIntegratorState{T}, \n",
    "    u::DoubleIntegratorInput{T})\n",
    "    xdot = DoubleIntegratorState(x.zdot, u.z)\n",
    "end\n",
    "\n",
    "type LinearSystem <: System\n",
    "    A\n",
    "    B\n",
    "end\n",
    "\n",
    "num_states(sys::LinearSystem) = size(sys.A, 2)\n",
    "num_inputs(sys::LinearSystem) = size(sys.B, 2)\n",
    "dynamics(sys::LinearSystem, t::Number, x::Frame, u::Frame) = \n",
    "    typeof(x)((sys.A * Flatten.to_vector(x) + sys.B * Flatten.to_vector(u))...)\n",
    "\n",
    "function dynamics(sys::System, t_x_u::Vector)\n",
    "    xdot = dynamics(sys, t_x_u[1], \n",
    "    state_frame(sys)(sub(t_x_u, 1 + (1:num_states(sys)))...), \n",
    "    input_frame(sys)(sub(t_x_u, 1 + num_states(sys) + (1:num_inputs(sys)))...))\n",
    "    xdot\n",
    "end\n",
    "\n",
    "type LinearSystemFactory\n",
    "    sys::System\n",
    "    jac::Function\n",
    "end\n",
    "LinearSystemFactory(sys::System) = LinearSystemFactory(sys, \n",
    "    ForwardDiff.jacobian(t_x_u::Vector -> dynamics(sys, t_x_u)))\n",
    "\n",
    "function linearize(factory::LinearSystemFactory, t0::Number, x0::Frame, u0::Frame)\n",
    "    t_x_u = [t0; Flatten.to_vector(x0); Flatten.to_vector(u0)]\n",
    "    jac0 = factory.jac(t_x_u)\n",
    "    A = jac0[1:end, 1+(1:num_states(factory.sys))]\n",
    "    B = jac0[1:end, 1+num_states(factory.sys)+(1:num_inputs(factory.sys))]\n",
    "    LinearSystem(A, B)\n",
    "end\n",
    "\n",
    "function linearize(sys::System, t0::Number, x0::Frame, u0::Frame)\n",
    "    linearize(LinearSystemFactory(sys), t0, x0, u0)\n",
    "end\n",
    "\n",
    "@make_frame PendulumState Frame theta thetadot\n",
    "@make_frame PendulumInput Frame tau\n",
    "\n",
    "type Pendulum <: System\n",
    "end\n",
    "\n",
    "function dynamics(sys::Pendulum, t::Number, x::PendulumState, u::PendulumInput)\n",
    "    PendulumState(x.thetadot, u.tau - sin(x.theta) - x.thetadot)\n",
    "end\n",
    "state_frame(sys::Pendulum) = PendulumState\n",
    "input_frame(sys::Pendulum) = PendulumInput\n",
    "\n",
    "end"
   ]
  },
  {
   "cell_type": "code",
   "execution_count": 20,
   "metadata": {
    "collapsed": false
   },
   "outputs": [],
   "source": [
    "import Systems"
   ]
  },
  {
   "cell_type": "code",
   "execution_count": 21,
   "metadata": {
    "collapsed": false
   },
   "outputs": [
    {
     "data": {
      "text/plain": [
       "Systems.DoubleIntegratorState{#108#T}"
      ]
     },
     "execution_count": 21,
     "metadata": {},
     "output_type": "execute_result"
    }
   ],
   "source": [
    "Systems.DoubleIntegratorState"
   ]
  },
  {
   "cell_type": "code",
   "execution_count": 22,
   "metadata": {
    "collapsed": false
   },
   "outputs": [
    {
     "data": {
      "text/plain": [
       "1-element Array{Float64,1}:\n",
       " 0.0"
      ]
     },
     "execution_count": 22,
     "metadata": {},
     "output_type": "execute_result"
    }
   ],
   "source": [
    "Flatten.to_vector(Systems.PendulumInput(0.,))"
   ]
  },
  {
   "cell_type": "code",
   "execution_count": 23,
   "metadata": {
    "collapsed": false
   },
   "outputs": [
    {
     "data": {
      "text/plain": [
       "Systems.LinearSystem(2x2 Array{Float64,2}:\n",
       "  0.0   1.0\n",
       " -1.0  -1.0,2x1 Array{Float64,2}:\n",
       " 0.0\n",
       " 1.0)"
      ]
     },
     "execution_count": 23,
     "metadata": {},
     "output_type": "execute_result"
    }
   ],
   "source": [
    "pend = Systems.Pendulum()\n",
    "p_linearized = Systems.linearize(pend, 0, Systems.PendulumState(0.,0.), Systems.PendulumInput(0.))"
   ]
  },
  {
   "cell_type": "code",
   "execution_count": 24,
   "metadata": {
    "collapsed": false
   },
   "outputs": [
    {
     "name": "stdout",
     "output_type": "stream",
     "text": [
      "  0.084474 seconds (241.00 k allocations: 12.405 MB, 7.55% gc time)\n",
      "  0.000054 seconds (80 allocations: 4.469 KB)\n",
      "  0.029585 seconds (100.00 k allocations: 5.112 MB)\n"
     ]
    }
   ],
   "source": [
    "pend = Systems.Pendulum()\n",
    "p_linearized = Systems.linearize(pend, 0, Systems.PendulumState(0.,0.), Systems.PendulumInput(0.))\n",
    "@time for j = 1:1000; p_linearized = Systems.linearize(pend, 0, Systems.PendulumState(0.,0.), Systems.PendulumInput(0.)); end\n",
    "@time factory = Systems.LinearSystemFactory(pend)\n",
    "p_linearized_2 = Systems.linearize(factory, 0, Systems.PendulumState(0.,0.), Systems.PendulumInput(0.))\n",
    "@time for j = 1:1000; p_linearized_2 = Systems.linearize(factory, 0, Systems.PendulumState(0.,0.), Systems.PendulumInput(0.)); end"
   ]
  },
  {
   "cell_type": "code",
   "execution_count": 27,
   "metadata": {
    "collapsed": false
   },
   "outputs": [
    {
     "name": "stdout",
     "output_type": "stream",
     "text": [
      "Systems.dynamics(pend,0,Systems.PendulumState(0.01,0.01),Systems.PendulumInput(0.0)) = Systems.PendulumState{Float64}(0.01,-0.019999833334166665)\n",
      "Systems.dynamics(p_linearized,0,Systems.PendulumState(0.01,0.01),Systems.PendulumInput(0.0)) = Systems.PendulumState{Float64}(0.01,-0.02)"
     ]
    },
    {
     "data": {
      "text/plain": [
       "Systems.PendulumState{Float64}(0.01,-0.02)"
      ]
     },
     "execution_count": 27,
     "metadata": {},
     "output_type": "execute_result"
    },
    {
     "name": "stdout",
     "output_type": "stream",
     "text": [
      "\n"
     ]
    }
   ],
   "source": [
    "@show Systems.dynamics(pend, 0, Systems.PendulumState(0.01, 0.01), Systems.PendulumInput(0.))\n",
    "@show Systems.dynamics(p_linearized, 0, Systems.PendulumState(0.01, 0.01), Systems.PendulumInput(0.))"
   ]
  },
  {
   "cell_type": "code",
   "execution_count": 30,
   "metadata": {
    "collapsed": false
   },
   "outputs": [
    {
     "name": "stdout",
     "output_type": "stream",
     "text": [
      "  "
     ]
    },
    {
     "data": {
      "text/plain": [
       "Systems.DoubleIntegratorState{Float64}(1.0,2.0)"
      ]
     },
     "execution_count": 30,
     "metadata": {},
     "output_type": "execute_result"
    },
    {
     "name": "stdout",
     "output_type": "stream",
     "text": [
      "0.000045 seconds (1000 allocations: 31.250 KB)\n"
     ]
    }
   ],
   "source": [
    "sys = Systems.DoubleIntegrator()\n",
    "x = Systems.DoubleIntegratorState(0.0, 1.0)\n",
    "u = Systems.DoubleIntegratorInput(2.0)\n",
    "\n",
    "xdot = Systems.copy(x)\n",
    "@time for j = 1:1e3; xdot = Systems.dynamics(sys, 0, x, u); end\n",
    "xdot"
   ]
  },
  {
   "cell_type": "code",
   "execution_count": 9,
   "metadata": {
    "collapsed": false
   },
   "outputs": [],
   "source": [
    "import ForwardDiff"
   ]
  },
  {
   "cell_type": "code",
   "execution_count": 10,
   "metadata": {
    "collapsed": false,
    "scrolled": true
   },
   "outputs": [
    {
     "ename": "LoadError",
     "evalue": "LoadError: UndefVarError: DoubleIntegrator not defined\nwhile loading In[10], in expression starting on line 1",
     "output_type": "error",
     "traceback": [
      "LoadError: UndefVarError: DoubleIntegrator not defined\nwhile loading In[10], in expression starting on line 1",
      ""
     ]
    }
   ],
   "source": [
    "sys = DoubleIntegrator()\n",
    "function do_dynamics{T}(t_x_u::Vector{T})\n",
    "    t = t_x_u[1]\n",
    "    x = DoubleIntegratorState(t_x_u[2:3]...)\n",
    "    u = DoubleIntegratorInput(t_x_u[4])\n",
    "    y = toVector(dynamics(sys, t, x, u))\n",
    "end\n",
    "    \n",
    "do_dynamics([1, 2, 3, 4])\n",
    "\n",
    "g = ForwardDiff.jacobian(do_dynamics)"
   ]
  },
  {
   "cell_type": "code",
   "execution_count": 11,
   "metadata": {
    "collapsed": false
   },
   "outputs": [
    {
     "ename": "LoadError",
     "evalue": "LoadError: UndefVarError: g not defined\nwhile loading In[11], in expression starting on line 1",
     "output_type": "error",
     "traceback": [
      "LoadError: UndefVarError: g not defined\nwhile loading In[11], in expression starting on line 1",
      ""
     ]
    }
   ],
   "source": [
    "g(rand(4))"
   ]
  },
  {
   "cell_type": "code",
   "execution_count": 12,
   "metadata": {
    "collapsed": false
   },
   "outputs": [
    {
     "ename": "LoadError",
     "evalue": "LoadError: UndefVarError: g not defined\nwhile loading In[12], in expression starting on line 1",
     "output_type": "error",
     "traceback": [
      "LoadError: UndefVarError: g not defined\nwhile loading In[12], in expression starting on line 1",
      "",
      " [inlined code] from In[12]:1",
      " in anonymous at no file:0"
     ]
    }
   ],
   "source": [
    "@time for j = 1:1000; g([1,2,3,4]); end"
   ]
  },
  {
   "cell_type": "code",
   "execution_count": 34,
   "metadata": {
    "collapsed": false
   },
   "outputs": [
    {
     "data": {
      "text/html": [
       "map(f, A::<b>AbstractArray{T,N}</b>) at <a href=\"https://github.com/JuliaLang/julia/tree/a2f713dea5ac6320d8dcf2835ac4a37ea751af05/base/abstractarray.jl#L1302\" target=\"_blank\">abstractarray.jl:1302</a>"
      ],
      "text/plain": [
       "map(f, A::AbstractArray{T,N}) at abstractarray.jl:1302"
      ]
     },
     "execution_count": 34,
     "metadata": {},
     "output_type": "execute_result"
    }
   ],
   "source": [
    "@which map(sin, 1:3)"
   ]
  },
  {
   "cell_type": "code",
   "execution_count": null,
   "metadata": {
    "collapsed": true
   },
   "outputs": [],
   "source": []
  }
 ],
 "metadata": {
  "kernelspec": {
   "display_name": "Julia 0.4.5",
   "language": "julia",
   "name": "julia-0.4"
  },
  "language_info": {
   "file_extension": ".jl",
   "mimetype": "application/julia",
   "name": "julia",
   "version": "0.4.5"
  }
 },
 "nbformat": 4,
 "nbformat_minor": 0
}
